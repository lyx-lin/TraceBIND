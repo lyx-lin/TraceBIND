{
 "cells": [
  {
   "cell_type": "code",
   "execution_count": 1,
   "id": "7674bb0f-c6ba-4350-85ea-2288c8a7bd29",
   "metadata": {
    "scrolled": true
   },
   "outputs": [
    {
     "name": "stderr",
     "output_type": "stream",
     "text": [
      "\n",
      "\n",
      "Loading required package: SeuratObject\n",
      "\n",
      "Loading required package: sp\n",
      "\n",
      "‘SeuratObject’ was built with package ‘Matrix’ 1.7.0 but the current\n",
      "version is 1.7.1; it is recomended that you reinstall ‘SeuratObject’ as\n",
      "the ABI for ‘Matrix’ may have changed\n",
      "\n",
      "\n",
      "Attaching package: ‘SeuratObject’\n",
      "\n",
      "\n",
      "The following objects are masked from ‘package:base’:\n",
      "\n",
      "    intersect, t\n",
      "\n",
      "\n",
      "── \u001b[1mAttaching core tidyverse packages\u001b[22m ──────────────────────── tidyverse 2.0.0 ──\n",
      "\u001b[32m✔\u001b[39m \u001b[34mdplyr    \u001b[39m 1.1.4     \u001b[32m✔\u001b[39m \u001b[34mreadr    \u001b[39m 2.1.5\n",
      "\u001b[32m✔\u001b[39m \u001b[34mforcats  \u001b[39m 1.0.0     \u001b[32m✔\u001b[39m \u001b[34mstringr  \u001b[39m 1.5.1\n",
      "\u001b[32m✔\u001b[39m \u001b[34mggplot2  \u001b[39m 3.5.1     \u001b[32m✔\u001b[39m \u001b[34mtibble   \u001b[39m 3.2.1\n",
      "\u001b[32m✔\u001b[39m \u001b[34mlubridate\u001b[39m 1.9.3     \u001b[32m✔\u001b[39m \u001b[34mtidyr    \u001b[39m 1.3.1\n",
      "\u001b[32m✔\u001b[39m \u001b[34mpurrr    \u001b[39m 1.0.4     \n",
      "── \u001b[1mConflicts\u001b[22m ────────────────────────────────────────── tidyverse_conflicts() ──\n",
      "\u001b[31m✖\u001b[39m \u001b[34mdplyr\u001b[39m::\u001b[32mfilter()\u001b[39m masks \u001b[34mstats\u001b[39m::filter()\n",
      "\u001b[31m✖\u001b[39m \u001b[34mdplyr\u001b[39m::\u001b[32mlag()\u001b[39m    masks \u001b[34mstats\u001b[39m::lag()\n",
      "\u001b[31m✖\u001b[39m \u001b[34mpurrr\u001b[39m::\u001b[32mreduce()\u001b[39m masks \u001b[34mSignac\u001b[39m::reduce()\n",
      "\u001b[36mℹ\u001b[39m Use the conflicted package (\u001b[3m\u001b[34m<http://conflicted.r-lib.org/>\u001b[39m\u001b[23m) to force all conflicts to become errors\n",
      "Loading required package: stats4\n",
      "\n",
      "Loading required package: BiocGenerics\n",
      "\n",
      "\n",
      "Attaching package: ‘BiocGenerics’\n",
      "\n",
      "\n",
      "The following objects are masked from ‘package:lubridate’:\n",
      "\n",
      "    intersect, setdiff, union\n",
      "\n",
      "\n",
      "The following objects are masked from ‘package:dplyr’:\n",
      "\n",
      "    combine, intersect, setdiff, union\n",
      "\n",
      "\n",
      "The following object is masked from ‘package:SeuratObject’:\n",
      "\n",
      "    intersect\n",
      "\n",
      "\n",
      "The following objects are masked from ‘package:stats’:\n",
      "\n",
      "    IQR, mad, sd, var, xtabs\n",
      "\n",
      "\n",
      "The following objects are masked from ‘package:base’:\n",
      "\n",
      "    anyDuplicated, aperm, append, as.data.frame, basename, cbind,\n",
      "    colnames, dirname, do.call, duplicated, eval, evalq, Filter, Find,\n",
      "    get, grep, grepl, intersect, is.unsorted, lapply, Map, mapply,\n",
      "    match, mget, order, paste, pmax, pmax.int, pmin, pmin.int,\n",
      "    Position, rank, rbind, Reduce, rownames, sapply, setdiff, table,\n",
      "    tapply, union, unique, unsplit, which.max, which.min\n",
      "\n",
      "\n",
      "Loading required package: S4Vectors\n",
      "\n",
      "\n",
      "Attaching package: ‘S4Vectors’\n",
      "\n",
      "\n",
      "The following objects are masked from ‘package:lubridate’:\n",
      "\n",
      "    second, second<-\n",
      "\n",
      "\n",
      "The following objects are masked from ‘package:dplyr’:\n",
      "\n",
      "    first, rename\n",
      "\n",
      "\n",
      "The following object is masked from ‘package:tidyr’:\n",
      "\n",
      "    expand\n",
      "\n",
      "\n",
      "The following object is masked from ‘package:utils’:\n",
      "\n",
      "    findMatches\n",
      "\n",
      "\n",
      "The following objects are masked from ‘package:base’:\n",
      "\n",
      "    expand.grid, I, unname\n",
      "\n",
      "\n",
      "Loading required package: IRanges\n",
      "\n",
      "\n",
      "Attaching package: ‘IRanges’\n",
      "\n",
      "\n",
      "The following object is masked from ‘package:lubridate’:\n",
      "\n",
      "    %within%\n",
      "\n",
      "\n",
      "The following objects are masked from ‘package:dplyr’:\n",
      "\n",
      "    collapse, desc, slice\n",
      "\n",
      "\n",
      "The following object is masked from ‘package:purrr’:\n",
      "\n",
      "    reduce\n",
      "\n",
      "\n",
      "The following object is masked from ‘package:sp’:\n",
      "\n",
      "    %over%\n",
      "\n",
      "\n",
      "Loading required package: GenomeInfoDb\n",
      "\n",
      "\n",
      "Attaching package: ‘Matrix’\n",
      "\n",
      "\n",
      "The following object is masked from ‘package:S4Vectors’:\n",
      "\n",
      "    expand\n",
      "\n",
      "\n",
      "The following objects are masked from ‘package:tidyr’:\n",
      "\n",
      "    expand, pack, unpack\n",
      "\n",
      "\n",
      "\n",
      "Attaching package: ‘TFBSTools’\n",
      "\n",
      "\n",
      "The following object is masked from ‘package:Matrix’:\n",
      "\n",
      "    Matrix\n",
      "\n",
      "\n",
      "\n",
      "Attaching package: ‘MASS’\n",
      "\n",
      "\n",
      "The following object is masked from ‘package:dplyr’:\n",
      "\n",
      "    select\n",
      "\n",
      "\n",
      "\n",
      "Attaching package: ‘patchwork’\n",
      "\n",
      "\n",
      "The following object is masked from ‘package:MASS’:\n",
      "\n",
      "    area\n",
      "\n",
      "\n"
     ]
    }
   ],
   "source": [
    "library(chromVAR)\n",
    "library(Signac)\n",
    "library(Seurat)\n",
    "library(tidyverse)\n",
    "library(GenomicRanges)\n",
    "library(motifmatchr)\n",
    "library(JASPAR2020)\n",
    "library(Matrix)\n",
    "library(TFBSTools)\n",
    "setwd(\"/home/mnt/weka/nzh/team/woodsqu2/nzhanglab/project/linyx/footprints/github/data/chromvar\")\n",
    "source(\"../../code/models.R\")\n",
    "source(\"../../code/utils.R\")\n",
    "source(\"../../code/visualizations.R\")\n"
   ]
  },
  {
   "cell_type": "markdown",
   "id": "73d866c2-197c-449d-852b-74a85b526703",
   "metadata": {},
   "source": [
    "#### Run chromvar with footprint-informed peak-by-motif matrix "
   ]
  },
  {
   "cell_type": "markdown",
   "id": "5f65a7c1-9311-4be4-86cf-c4d74351f090",
   "metadata": {},
   "source": [
    "##### Load the regions and metadata"
   ]
  },
  {
   "cell_type": "code",
   "execution_count": 2,
   "id": "619b94a2-a703-4c5d-b283-f0403be44695",
   "metadata": {},
   "outputs": [
    {
     "data": {
      "text/html": [
       "<table class=\"dataframe\">\n",
       "<caption>A data.frame: 6 × 3</caption>\n",
       "<thead>\n",
       "\t<tr><th></th><th scope=col>chr</th><th scope=col>start</th><th scope=col>end</th></tr>\n",
       "\t<tr><th></th><th scope=col>&lt;chr&gt;</th><th scope=col>&lt;int&gt;</th><th scope=col>&lt;int&gt;</th></tr>\n",
       "</thead>\n",
       "<tbody>\n",
       "\t<tr><th scope=row>1</th><td>NC_086019.1</td><td>  64827</td><td>  65758</td></tr>\n",
       "\t<tr><th scope=row>2</th><td>NC_086019.1</td><td> 814869</td><td> 815735</td></tr>\n",
       "\t<tr><th scope=row>3</th><td>NC_086019.1</td><td>1797826</td><td>1798772</td></tr>\n",
       "\t<tr><th scope=row>4</th><td>NC_086019.1</td><td>3128999</td><td>3129968</td></tr>\n",
       "\t<tr><th scope=row>5</th><td>NC_086019.1</td><td>3213680</td><td>3214896</td></tr>\n",
       "\t<tr><th scope=row>6</th><td>NC_086019.1</td><td>3250871</td><td>3251828</td></tr>\n",
       "</tbody>\n",
       "</table>\n"
      ],
      "text/latex": [
       "A data.frame: 6 × 3\n",
       "\\begin{tabular}{r|lll}\n",
       "  & chr & start & end\\\\\n",
       "  & <chr> & <int> & <int>\\\\\n",
       "\\hline\n",
       "\t1 & NC\\_086019.1 &   64827 &   65758\\\\\n",
       "\t2 & NC\\_086019.1 &  814869 &  815735\\\\\n",
       "\t3 & NC\\_086019.1 & 1797826 & 1798772\\\\\n",
       "\t4 & NC\\_086019.1 & 3128999 & 3129968\\\\\n",
       "\t5 & NC\\_086019.1 & 3213680 & 3214896\\\\\n",
       "\t6 & NC\\_086019.1 & 3250871 & 3251828\\\\\n",
       "\\end{tabular}\n"
      ],
      "text/markdown": [
       "\n",
       "A data.frame: 6 × 3\n",
       "\n",
       "| <!--/--> | chr &lt;chr&gt; | start &lt;int&gt; | end &lt;int&gt; |\n",
       "|---|---|---|---|\n",
       "| 1 | NC_086019.1 |   64827 |   65758 |\n",
       "| 2 | NC_086019.1 |  814869 |  815735 |\n",
       "| 3 | NC_086019.1 | 1797826 | 1798772 |\n",
       "| 4 | NC_086019.1 | 3128999 | 3129968 |\n",
       "| 5 | NC_086019.1 | 3213680 | 3214896 |\n",
       "| 6 | NC_086019.1 | 3250871 | 3251828 |\n",
       "\n"
      ],
      "text/plain": [
       "  chr         start   end    \n",
       "1 NC_086019.1   64827   65758\n",
       "2 NC_086019.1  814869  815735\n",
       "3 NC_086019.1 1797826 1798772\n",
       "4 NC_086019.1 3128999 3129968\n",
       "5 NC_086019.1 3213680 3214896\n",
       "6 NC_086019.1 3250871 3251828"
      ]
     },
     "metadata": {},
     "output_type": "display_data"
    }
   ],
   "source": [
    "regionsBed = read.table(\"all_peaks_region.bed\")\n",
    "peaks = makeGRangesFromDataFrame(regionsBed)\n",
    "head(regionsBed)\n"
   ]
  },
  {
   "cell_type": "code",
   "execution_count": 3,
   "id": "1284f631-b173-4d2b-8e4a-b59a19c7c51b",
   "metadata": {},
   "outputs": [
    {
     "data": {
      "text/html": [
       "<table class=\"dataframe\">\n",
       "<caption>A data.frame: 6 × 6</caption>\n",
       "<thead>\n",
       "\t<tr><th></th><th scope=col>orig.ident</th><th scope=col>nCount_ATAC</th><th scope=col>nFeature_ATAC</th><th scope=col>ATAC_bc</th><th scope=col>celltype</th><th scope=col>dataset</th></tr>\n",
       "\t<tr><th></th><th scope=col>&lt;chr&gt;</th><th scope=col>&lt;int&gt;</th><th scope=col>&lt;int&gt;</th><th scope=col>&lt;chr&gt;</th><th scope=col>&lt;chr&gt;</th><th scope=col>&lt;chr&gt;</th></tr>\n",
       "</thead>\n",
       "<tbody>\n",
       "\t<tr><th scope=row>weeks_16_ACAGCGGGTTGGGTTT-1</th><td>SeuratProject</td><td> 1584</td><td> 1522</td><td>ACAGCGGGTTGGGTTT-1</td><td>PT  </td><td>weeks_16</td></tr>\n",
       "\t<tr><th scope=row>weeks_16_ACAGCGGGTTGAGGTA-1</th><td>SeuratProject</td><td>10832</td><td> 8154</td><td>ACAGCGGGTTGAGGTA-1</td><td>PT  </td><td>weeks_16</td></tr>\n",
       "\t<tr><th scope=row>weeks_16_ACAGCGGGTGATTCTA-1</th><td>SeuratProject</td><td>21839</td><td>15736</td><td>ACAGCGGGTGATTCTA-1</td><td>PT  </td><td>weeks_16</td></tr>\n",
       "\t<tr><th scope=row>weeks_16_CTTTATCGTTCTTAAG-1</th><td>SeuratProject</td><td>17317</td><td>12071</td><td>CTTTATCGTTCTTAAG-1</td><td>CNT </td><td>weeks_16</td></tr>\n",
       "\t<tr><th scope=row>weeks_16_TGACTATTCAGGTTGG-1</th><td>SeuratProject</td><td> 4956</td><td> 4438</td><td>TGACTATTCAGGTTGG-1</td><td>DCT </td><td>weeks_16</td></tr>\n",
       "\t<tr><th scope=row>weeks_16_TGACTATTCCTTAACG-1</th><td>SeuratProject</td><td> 6615</td><td> 5350</td><td>TGACTATTCCTTAACG-1</td><td>IC-A</td><td>weeks_16</td></tr>\n",
       "</tbody>\n",
       "</table>\n"
      ],
      "text/latex": [
       "A data.frame: 6 × 6\n",
       "\\begin{tabular}{r|llllll}\n",
       "  & orig.ident & nCount\\_ATAC & nFeature\\_ATAC & ATAC\\_bc & celltype & dataset\\\\\n",
       "  & <chr> & <int> & <int> & <chr> & <chr> & <chr>\\\\\n",
       "\\hline\n",
       "\tweeks\\_16\\_ACAGCGGGTTGGGTTT-1 & SeuratProject &  1584 &  1522 & ACAGCGGGTTGGGTTT-1 & PT   & weeks\\_16\\\\\n",
       "\tweeks\\_16\\_ACAGCGGGTTGAGGTA-1 & SeuratProject & 10832 &  8154 & ACAGCGGGTTGAGGTA-1 & PT   & weeks\\_16\\\\\n",
       "\tweeks\\_16\\_ACAGCGGGTGATTCTA-1 & SeuratProject & 21839 & 15736 & ACAGCGGGTGATTCTA-1 & PT   & weeks\\_16\\\\\n",
       "\tweeks\\_16\\_CTTTATCGTTCTTAAG-1 & SeuratProject & 17317 & 12071 & CTTTATCGTTCTTAAG-1 & CNT  & weeks\\_16\\\\\n",
       "\tweeks\\_16\\_TGACTATTCAGGTTGG-1 & SeuratProject &  4956 &  4438 & TGACTATTCAGGTTGG-1 & DCT  & weeks\\_16\\\\\n",
       "\tweeks\\_16\\_TGACTATTCCTTAACG-1 & SeuratProject &  6615 &  5350 & TGACTATTCCTTAACG-1 & IC-A & weeks\\_16\\\\\n",
       "\\end{tabular}\n"
      ],
      "text/markdown": [
       "\n",
       "A data.frame: 6 × 6\n",
       "\n",
       "| <!--/--> | orig.ident &lt;chr&gt; | nCount_ATAC &lt;int&gt; | nFeature_ATAC &lt;int&gt; | ATAC_bc &lt;chr&gt; | celltype &lt;chr&gt; | dataset &lt;chr&gt; |\n",
       "|---|---|---|---|---|---|---|\n",
       "| weeks_16_ACAGCGGGTTGGGTTT-1 | SeuratProject |  1584 |  1522 | ACAGCGGGTTGGGTTT-1 | PT   | weeks_16 |\n",
       "| weeks_16_ACAGCGGGTTGAGGTA-1 | SeuratProject | 10832 |  8154 | ACAGCGGGTTGAGGTA-1 | PT   | weeks_16 |\n",
       "| weeks_16_ACAGCGGGTGATTCTA-1 | SeuratProject | 21839 | 15736 | ACAGCGGGTGATTCTA-1 | PT   | weeks_16 |\n",
       "| weeks_16_CTTTATCGTTCTTAAG-1 | SeuratProject | 17317 | 12071 | CTTTATCGTTCTTAAG-1 | CNT  | weeks_16 |\n",
       "| weeks_16_TGACTATTCAGGTTGG-1 | SeuratProject |  4956 |  4438 | TGACTATTCAGGTTGG-1 | DCT  | weeks_16 |\n",
       "| weeks_16_TGACTATTCCTTAACG-1 | SeuratProject |  6615 |  5350 | TGACTATTCCTTAACG-1 | IC-A | weeks_16 |\n",
       "\n"
      ],
      "text/plain": [
       "                            orig.ident    nCount_ATAC nFeature_ATAC\n",
       "weeks_16_ACAGCGGGTTGGGTTT-1 SeuratProject  1584        1522        \n",
       "weeks_16_ACAGCGGGTTGAGGTA-1 SeuratProject 10832        8154        \n",
       "weeks_16_ACAGCGGGTGATTCTA-1 SeuratProject 21839       15736        \n",
       "weeks_16_CTTTATCGTTCTTAAG-1 SeuratProject 17317       12071        \n",
       "weeks_16_TGACTATTCAGGTTGG-1 SeuratProject  4956        4438        \n",
       "weeks_16_TGACTATTCCTTAACG-1 SeuratProject  6615        5350        \n",
       "                            ATAC_bc            celltype dataset \n",
       "weeks_16_ACAGCGGGTTGGGTTT-1 ACAGCGGGTTGGGTTT-1 PT       weeks_16\n",
       "weeks_16_ACAGCGGGTTGAGGTA-1 ACAGCGGGTTGAGGTA-1 PT       weeks_16\n",
       "weeks_16_ACAGCGGGTGATTCTA-1 ACAGCGGGTGATTCTA-1 PT       weeks_16\n",
       "weeks_16_CTTTATCGTTCTTAAG-1 CTTTATCGTTCTTAAG-1 CNT      weeks_16\n",
       "weeks_16_TGACTATTCAGGTTGG-1 TGACTATTCAGGTTGG-1 DCT      weeks_16\n",
       "weeks_16_TGACTATTCCTTAACG-1 TGACTATTCCTTAACG-1 IC-A     weeks_16"
      ]
     },
     "metadata": {},
     "output_type": "display_data"
    }
   ],
   "source": [
    "metadata = read.csv('meta_data.csv', row.name = 1)\n",
    "head(metadata)\n"
   ]
  },
  {
   "cell_type": "markdown",
   "id": "5414fbd1-91bd-4be1-bfdf-a1536e2a200f",
   "metadata": {},
   "source": [
    "##### Load the seuratobject and pre-computed binding sites for one age 82 weeks, using only the footprints corresponding to TFs and multi-TF complex sizes."
   ]
  },
  {
   "cell_type": "code",
   "execution_count": 4,
   "id": "cf5748c6-5b7f-4381-ad8f-43c3a2098c37",
   "metadata": {},
   "outputs": [
    {
     "data": {
      "text/plain": [
       "GRanges object with 3 ranges and 0 metadata columns:\n",
       "         seqnames          ranges strand\n",
       "            <Rle>       <IRanges>  <Rle>\n",
       "  [1] NC_086019.1     65322-65402      *\n",
       "  [2] NC_086019.1 1798165-1798259      *\n",
       "  [3] NC_086019.1 3213845-3213881      *\n",
       "  -------\n",
       "  seqinfo: 22 sequences from an unspecified genome; no seqlengths"
      ]
     },
     "metadata": {},
     "output_type": "display_data"
    }
   ],
   "source": [
    "binding_sites_U21 = readRDS('age_82_weeks/thresholded_binding_sites.rds')\n",
    "binding_sites_tf = makeGRangesFromDataFrame(binding_sites_U21[binding_sites_U21$width_effect_size <= 120, ])\n",
    "head(binding_sites_tf, 3)\n"
   ]
  },
  {
   "cell_type": "code",
   "execution_count": 5,
   "id": "ac189c78-11e6-44c6-8672-3647854240ef",
   "metadata": {},
   "outputs": [
    {
     "data": {
      "text/plain": [
       "An object of class Seurat \n",
       "146971 features across 6525 samples within 1 assay \n",
       "Active assay: ATAC (146971 features, 146969 variable features)\n",
       " 2 layers present: counts, data"
      ]
     },
     "metadata": {},
     "output_type": "display_data"
    }
   ],
   "source": [
    "seuratobject = readRDS(\"age_82_weeks/seuratobject_week82_whole_peaks.rds\")\n",
    "seuratobject\n"
   ]
  },
  {
   "cell_type": "markdown",
   "id": "465af8cb-5798-46d1-8321-651ea9c52345",
   "metadata": {},
   "source": [
    "##### Obtain motif position on the reference genome for peaks"
   ]
  },
  {
   "cell_type": "code",
   "execution_count": 6,
   "id": "3c5cb55f-deed-4277-bbad-59868c411639",
   "metadata": {},
   "outputs": [],
   "source": [
    "pwm <- getMatrixSet(\n",
    "  x = JASPAR2020,\n",
    "  opts = list(collection=\"CORE\",\n",
    "              tax_group='vertebrates',\n",
    "              all_versions=FALSE)\n",
    ")\n",
    "genome_file <- Rsamtools::FaFile(\"/home/mnt/weka/nzh/team/woodsqu2/nzhanglab/data/ParkerWilson_DEFND/reference/fasta/genome.fa\") ### GRCr8 genome file \n",
    "motif_pos = matchMotifs(pwm, \n",
    "                        subject = peaks, \n",
    "                        genome = genome_file, \n",
    "                        out = 'position')\n"
   ]
  },
  {
   "cell_type": "markdown",
   "id": "9a9a1126-9e39-45c7-a738-7cec918ec505",
   "metadata": {},
   "source": [
    "##### Create the binary peak-by-motif matrix, where each entry is 1 if a binding site of footprint overlaps a motif site within the peak."
   ]
  },
  {
   "cell_type": "code",
   "execution_count": 7,
   "id": "e021c15f-97bd-409e-b330-8802515f531f",
   "metadata": {},
   "outputs": [],
   "source": [
    "motif_fp_matrix = pbmcapply::pbmclapply(seq_along(motif_pos), \n",
    "                                        function(i){\n",
    "                                          motif_peaks = rep(0, length(peaks))\n",
    "                                          motifs = motif_pos[[i]]\n",
    "                                          overlaps = findOverlaps(motifs, binding_sites_tf)\n",
    "                                          motifs = motifs[overlaps@from]\n",
    "                                          motif_peaks[unique(findOverlaps(peaks, motifs)@from)] = 1\n",
    "                                          return(motif_peaks)\n",
    "                                        }, \n",
    "                                        mc.cores = 2)\n",
    "\n",
    "motif_fp_matrix <- do.call(cbind, motif_fp_matrix)\n",
    "motif_fp_matrix = Matrix::Matrix(motif_fp_matrix, sparse = TRUE)\n",
    "colnames(motif_fp_matrix) = names(pwm)\n",
    "rownames(motif_fp_matrix) = paste0(regionsBed$chr, '-', \n",
    "                                   regionsBed$start, '-', \n",
    "                                   regionsBed$end)\n"
   ]
  },
  {
   "cell_type": "markdown",
   "id": "1c731fb5-c3ad-4918-ad12-f49c2c7409db",
   "metadata": {},
   "source": [
    "##### Create the standard peak-by-motif matrix"
   ]
  },
  {
   "cell_type": "code",
   "execution_count": 8,
   "id": "dc934262-ef6e-40fe-81e5-ed4f91d957f9",
   "metadata": {},
   "outputs": [],
   "source": [
    "motif_pos = matchMotifs(pwm, \n",
    "                        subject = peaks, \n",
    "                        genome = genome_file)\n",
    "\n",
    "motif_matrix = as.matrix(motif_pos@assays@data$motifMatches)\n",
    "motif_matrix <- Matrix::Matrix(motif_matrix, sparse = TRUE)\n",
    "motif_matrix <- as(motif_matrix, \"dMatrix\")\n",
    "colnames(motif_matrix) = names(pwm)\n",
    "rownames(motif_matrix) = paste0(regionsBed$chr, '-', \n",
    "                                regionsBed$start, '-', \n",
    "                                regionsBed$end)\n"
   ]
  },
  {
   "cell_type": "markdown",
   "id": "bc5ac4bc-b138-4f5c-b375-0b1413b1a3be",
   "metadata": {},
   "source": [
    "##### Some entries in peak-by-become 0 after restricting to footprinting-supported motif sites"
   ]
  },
  {
   "cell_type": "code",
   "execution_count": 9,
   "id": "cc52a77e-220c-4de8-96b9-13c288ec0a5c",
   "metadata": {},
   "outputs": [
    {
     "data": {
      "text/plain": [
       "5 x 5 sparse Matrix of class \"dgCMatrix\"\n",
       "                            MA0004.1 MA0006.1 MA0019.1 MA0029.1 MA0030.1\n",
       "NC_086019.1-64827-65758            .        .        .        .        .\n",
       "NC_086019.1-814869-815735          .        .        .        .        .\n",
       "NC_086019.1-1797826-1798772        .        .        .        .        .\n",
       "NC_086019.1-3128999-3129968        .        .        .        .        .\n",
       "NC_086019.1-3213680-3214896        .        .        .        .        ."
      ]
     },
     "metadata": {},
     "output_type": "display_data"
    }
   ],
   "source": [
    "motif_fp_matrix[1:5, 1:5]\n"
   ]
  },
  {
   "cell_type": "code",
   "execution_count": 10,
   "id": "233fa934-d8fa-45f3-a6ee-893c53a04974",
   "metadata": {},
   "outputs": [
    {
     "data": {
      "text/plain": [
       "5 x 5 sparse Matrix of class \"dgCMatrix\"\n",
       "                            MA0004.1 MA0006.1 MA0019.1 MA0029.1 MA0030.1\n",
       "NC_086019.1-64827-65758            .        .        .        .        1\n",
       "NC_086019.1-814869-815735          .        .        .        1        .\n",
       "NC_086019.1-1797826-1798772        .        .        .        .        .\n",
       "NC_086019.1-3128999-3129968        .        .        .        .        1\n",
       "NC_086019.1-3213680-3214896        1        .        .        .        ."
      ]
     },
     "metadata": {},
     "output_type": "display_data"
    }
   ],
   "source": [
    "motif_matrix[1:5, 1:5]\n"
   ]
  },
  {
   "cell_type": "markdown",
   "id": "4fffbe20-6514-437a-8d2e-e40d40f8deab",
   "metadata": {},
   "source": [
    "##### Run chromvar with standard and footprint-combined peak-by-motif matrix "
   ]
  },
  {
   "cell_type": "code",
   "execution_count": 11,
   "id": "1cb6b825-4c8b-43ee-82a7-20880468ae2b",
   "metadata": {},
   "outputs": [
    {
     "name": "stderr",
     "output_type": "stream",
     "text": [
      "Computing GC bias per region\n",
      "\n",
      "Selecting background regions\n",
      "\n",
      "Computing deviations from background\n",
      "\n",
      "Constructing chromVAR assay\n",
      "\n",
      "Warning message:\n",
      "“Layer counts isn't present in the assay object; returning NULL”\n"
     ]
    },
    {
     "data": {
      "text/plain": [
       "Assay data with 746 features for 6525 cells\n",
       "First 10 features:\n",
       " MA0004.1, MA0006.1, MA0019.1, MA0029.1, MA0030.1, MA0031.1, MA0040.1,\n",
       "MA0041.1, MA0051.1, MA0057.1 "
      ]
     },
     "metadata": {},
     "output_type": "display_data"
    }
   ],
   "source": [
    "seuratobject <- RunChromVAR(\n",
    "    object = seuratobject,\n",
    "    assay = 'ATAC',\n",
    "    motif.matrix = motif_fp_matrix, \n",
    "    genome = genome_file, \n",
    "    new.assay.name = 'footprint_chromvar'\n",
    ")\n",
    "seuratobject[['footprint_chromvar']]\n"
   ]
  },
  {
   "cell_type": "code",
   "execution_count": 12,
   "id": "f2ac966d-f2ab-4284-8e57-53d24e711921",
   "metadata": {},
   "outputs": [],
   "source": [
    "saveRDS(seuratobject[['footprint_chromvar']], \"age_82_weeks/chromvar_footprints_vertebrates_0.05_120.rds\")\n"
   ]
  },
  {
   "cell_type": "code",
   "execution_count": 13,
   "id": "0ee5e3e7-628f-4756-ad02-b7dcc712ac87",
   "metadata": {},
   "outputs": [
    {
     "name": "stderr",
     "output_type": "stream",
     "text": [
      "Computing GC bias per region\n",
      "\n",
      "Selecting background regions\n",
      "\n",
      "Computing deviations from background\n",
      "\n",
      "Constructing chromVAR assay\n",
      "\n",
      "Warning message:\n",
      "“Layer counts isn't present in the assay object; returning NULL”\n"
     ]
    },
    {
     "data": {
      "text/plain": [
       "Assay data with 746 features for 6525 cells\n",
       "First 10 features:\n",
       " MA0004.1, MA0006.1, MA0019.1, MA0029.1, MA0030.1, MA0031.1, MA0040.1,\n",
       "MA0041.1, MA0051.1, MA0057.1 "
      ]
     },
     "metadata": {},
     "output_type": "display_data"
    }
   ],
   "source": [
    "seuratobject <- RunChromVAR(\n",
    "    object = seuratobject,\n",
    "    assay = 'ATAC',\n",
    "    motif.matrix = motif_matrix, \n",
    "    genome = genome_file, \n",
    "    new.assay.name = 'standard_chromvar'\n",
    ")\n",
    "seuratobject[['standard_chromvar']]\n"
   ]
  },
  {
   "cell_type": "code",
   "execution_count": 14,
   "id": "f9dfe5c4-3453-4ad8-bd61-c0fc301bbcea",
   "metadata": {},
   "outputs": [],
   "source": [
    "saveRDS(seuratobject[['standard_chromvar']], \"age_82_weeks/chromvar_vertebrates.rds\")\n"
   ]
  },
  {
   "cell_type": "markdown",
   "id": "84261add-4b03-4ffc-b5e7-c4e70862eac4",
   "metadata": {},
   "source": [
    "#### Differential test of TF activities between different age groups"
   ]
  },
  {
   "cell_type": "markdown",
   "id": "c77c5bcf-4f44-4c3d-bb63-0c257d018597",
   "metadata": {},
   "source": [
    "##### Similarly, run chromvar for other age groups and load the data"
   ]
  },
  {
   "cell_type": "code",
   "execution_count": 15,
   "id": "681ab813-6bf5-4576-8ebf-20ed08db9ef5",
   "metadata": {},
   "outputs": [],
   "source": [
    "weeks82_chromvar_fp = readRDS(\"age_82_weeks/chromvar_footprints_vertebrates_0.05_120.rds\")\n",
    "weeks30_chromvar_fp = readRDS(\"age_30_weeks/chromvar_footprints_vertebrates_0.05_120.rds\")\n",
    "weeks82_chromvar = readRDS(\"age_82_weeks/chromvar_vertebrates.rds\")\n",
    "weeks30_chromvar = readRDS(\"age_30_weeks/chromvar_vertebrates.rds\")\n"
   ]
  },
  {
   "cell_type": "markdown",
   "id": "ae13bfda-fc15-4818-9f96-27a5d90d5d27",
   "metadata": {},
   "source": [
    "##### Obtain gene names and PT cells for different age groups"
   ]
  },
  {
   "cell_type": "code",
   "execution_count": 16,
   "id": "c73a9587-16a9-4c31-916b-696eaf2ff048",
   "metadata": {},
   "outputs": [],
   "source": [
    "motif_names = names(pwm)\n",
    "gene_names_all = unlist(sapply(motif_names, function(x) {\n",
    "  getMatrixByID(JASPAR2020, ID = x)@name\n",
    "}))\n"
   ]
  },
  {
   "cell_type": "code",
   "execution_count": 17,
   "id": "f6e172c2-d72b-460f-954c-5f0d669a9cdc",
   "metadata": {},
   "outputs": [],
   "source": [
    "weeks82_PT = rownames(metadata)[metadata$celltype %in% c('PT', 'PT-MT') & metadata$dataset == 'weeks_82']\n",
    "weeks30_PT = rownames(metadata)[metadata$celltype %in% c('PT', 'PT-MT') & metadata$dataset == 'weeks_30']\n"
   ]
  },
  {
   "cell_type": "markdown",
   "id": "78b0f054-25ba-4fbd-a8cb-246d49d5bc94",
   "metadata": {},
   "source": [
    "##### Change of FOSL2 chromVAR scores as aging by different methods "
   ]
  },
  {
   "cell_type": "code",
   "execution_count": 18,
   "id": "3c4a0ec7-41e7-4056-b15a-74a08524a941",
   "metadata": {},
   "outputs": [],
   "source": [
    "chromvar_fosl2 <- bind_rows(\n",
    "  data.frame(\n",
    "    age = '82 weeks',\n",
    "    chromvar = weeks82_chromvar@data['MA0478.1', weeks82_PT],\n",
    "    method = 'standard'\n",
    "  ),\n",
    "  data.frame(\n",
    "    age = '30 weeks',\n",
    "    chromvar = weeks30_chromvar@data['MA0478.1', weeks30_PT],\n",
    "    method = 'standard'\n",
    "  ),\n",
    "  data.frame(\n",
    "    age = '82 weeks',\n",
    "    chromvar = weeks82_chromvar_fp@data['MA0478.1', weeks82_PT],\n",
    "    method = 'footprint'\n",
    "  ),\n",
    "  data.frame(\n",
    "    age = '30 weeks',\n",
    "    chromvar = weeks30_chromvar_fp@data['MA0478.1', weeks30_PT],\n",
    "    method = 'footprint'\n",
    "  )\n",
    ")\n"
   ]
  },
  {
   "cell_type": "code",
   "execution_count": 19,
   "id": "3acc7384-6e6b-409e-b63d-41885b7ba8df",
   "metadata": {},
   "outputs": [
    {
     "data": {
      "text/html": [
       "<table class=\"dataframe\">\n",
       "<caption>A data.frame: 6 × 3</caption>\n",
       "<thead>\n",
       "\t<tr><th></th><th scope=col>age</th><th scope=col>chromvar</th><th scope=col>method</th></tr>\n",
       "\t<tr><th></th><th scope=col>&lt;chr&gt;</th><th scope=col>&lt;dbl&gt;</th><th scope=col>&lt;chr&gt;</th></tr>\n",
       "</thead>\n",
       "<tbody>\n",
       "\t<tr><th scope=row>weeks_82_ACAGCGGGTTGCTCCT-1...1</th><td>82 weeks</td><td>-0.90732372</td><td>standard</td></tr>\n",
       "\t<tr><th scope=row>weeks_82_ACAGCGGGTTAAAGGT-1...2</th><td>82 weeks</td><td>-0.01347087</td><td>standard</td></tr>\n",
       "\t<tr><th scope=row>weeks_82_CATTTAGGTTAAGGAT-1...3</th><td>82 weeks</td><td> 0.01254546</td><td>standard</td></tr>\n",
       "\t<tr><th scope=row>weeks_82_GCGCTTAGTTGCTTCC-1...4</th><td>82 weeks</td><td> 0.67833945</td><td>standard</td></tr>\n",
       "\t<tr><th scope=row>weeks_82_GCGCTTAGTTTATTCC-1...5</th><td>82 weeks</td><td>-3.15446615</td><td>standard</td></tr>\n",
       "\t<tr><th scope=row>weeks_82_GCGCTTAGTGCACAAA-1...6</th><td>82 weeks</td><td>-1.30384166</td><td>standard</td></tr>\n",
       "</tbody>\n",
       "</table>\n"
      ],
      "text/latex": [
       "A data.frame: 6 × 3\n",
       "\\begin{tabular}{r|lll}\n",
       "  & age & chromvar & method\\\\\n",
       "  & <chr> & <dbl> & <chr>\\\\\n",
       "\\hline\n",
       "\tweeks\\_82\\_ACAGCGGGTTGCTCCT-1...1 & 82 weeks & -0.90732372 & standard\\\\\n",
       "\tweeks\\_82\\_ACAGCGGGTTAAAGGT-1...2 & 82 weeks & -0.01347087 & standard\\\\\n",
       "\tweeks\\_82\\_CATTTAGGTTAAGGAT-1...3 & 82 weeks &  0.01254546 & standard\\\\\n",
       "\tweeks\\_82\\_GCGCTTAGTTGCTTCC-1...4 & 82 weeks &  0.67833945 & standard\\\\\n",
       "\tweeks\\_82\\_GCGCTTAGTTTATTCC-1...5 & 82 weeks & -3.15446615 & standard\\\\\n",
       "\tweeks\\_82\\_GCGCTTAGTGCACAAA-1...6 & 82 weeks & -1.30384166 & standard\\\\\n",
       "\\end{tabular}\n"
      ],
      "text/markdown": [
       "\n",
       "A data.frame: 6 × 3\n",
       "\n",
       "| <!--/--> | age &lt;chr&gt; | chromvar &lt;dbl&gt; | method &lt;chr&gt; |\n",
       "|---|---|---|---|\n",
       "| weeks_82_ACAGCGGGTTGCTCCT-1...1 | 82 weeks | -0.90732372 | standard |\n",
       "| weeks_82_ACAGCGGGTTAAAGGT-1...2 | 82 weeks | -0.01347087 | standard |\n",
       "| weeks_82_CATTTAGGTTAAGGAT-1...3 | 82 weeks |  0.01254546 | standard |\n",
       "| weeks_82_GCGCTTAGTTGCTTCC-1...4 | 82 weeks |  0.67833945 | standard |\n",
       "| weeks_82_GCGCTTAGTTTATTCC-1...5 | 82 weeks | -3.15446615 | standard |\n",
       "| weeks_82_GCGCTTAGTGCACAAA-1...6 | 82 weeks | -1.30384166 | standard |\n",
       "\n"
      ],
      "text/plain": [
       "                                age      chromvar    method  \n",
       "weeks_82_ACAGCGGGTTGCTCCT-1...1 82 weeks -0.90732372 standard\n",
       "weeks_82_ACAGCGGGTTAAAGGT-1...2 82 weeks -0.01347087 standard\n",
       "weeks_82_CATTTAGGTTAAGGAT-1...3 82 weeks  0.01254546 standard\n",
       "weeks_82_GCGCTTAGTTGCTTCC-1...4 82 weeks  0.67833945 standard\n",
       "weeks_82_GCGCTTAGTTTATTCC-1...5 82 weeks -3.15446615 standard\n",
       "weeks_82_GCGCTTAGTGCACAAA-1...6 82 weeks -1.30384166 standard"
      ]
     },
     "metadata": {},
     "output_type": "display_data"
    }
   ],
   "source": [
    "head(chromvar_fosl2)\n"
   ]
  },
  {
   "cell_type": "code",
   "execution_count": 20,
   "id": "14e0084f-242c-4168-bd06-445a89e68260",
   "metadata": {},
   "outputs": [
    {
     "name": "stderr",
     "output_type": "stream",
     "text": [
      "Warning message:\n",
      "“\u001b[1m\u001b[22mRemoved 116 rows containing non-finite outside the scale range\n",
      "(`stat_boxplot()`).”\n"
     ]
    },
    {
     "data": {
      "image/png": "[encoded data removed]",
      "text/plain": [
       "plot without title"
      ]
     },
     "metadata": {
      "image/png": {
       "height": 360,
       "width": 600
      }
     },
     "output_type": "display_data"
    }
   ],
   "source": [
    "options(repr.plot.width=10, repr.plot.height=6)\n",
    "ggplot(chromvar_fosl2) + \n",
    "    geom_boxplot(aes(x = method, y = chromvar, fill = age)) + \n",
    "    theme_classic() +\n",
    "    theme(legend.title=element_blank(), \n",
    "       text = element_text(size = 20))"
   ]
  },
  {
   "cell_type": "markdown",
   "id": "acff141c-c6d0-4583-809f-e11b2a3bbd8f",
   "metadata": {},
   "source": [
    "##### Differential test for footprint-informed chromvar scores"
   ]
  },
  {
   "cell_type": "code",
   "execution_count": 21,
   "id": "312b8837-55a0-4aa1-99ed-1060f14a39b0",
   "metadata": {},
   "outputs": [],
   "source": [
    "wilcox_stat = NULL\n",
    "wilcox_pval = NULL\n",
    "for (tf in motif_names){\n",
    "  weeks82_value = weeks82_chromvar_fp@data[tf, weeks82_PT]\n",
    "  weeks30_value = weeks30_chromvar_fp@data[tf, weeks30_PT]\n",
    "  n1 <- sum(!is.na(weeks82_value))\n",
    "  n2 <- sum(!is.na(weeks30_value))\n",
    "  U <- wilcox.test(weeks82_value, \n",
    "                   weeks30_value)$statistic\n",
    "  mu <- n1 * n2 / 2\n",
    "  sigma <- sqrt(n1 * n2 * (n1 + n2 + 1) / 12)\n",
    "  z <- (U - mu) / sigma\n",
    "  \n",
    "  wilcox_stat = c(wilcox_stat, \n",
    "                  z)\n",
    "  wilcox_pval = c(wilcox_pval,\n",
    "                  wilcox.test(weeks82_value, \n",
    "                              weeks30_value)$p.value\n",
    "             )\n",
    "}\n"
   ]
  },
  {
   "cell_type": "code",
   "execution_count": 22,
   "id": "db766545-191c-44ab-a4d6-3e9f89a5157c",
   "metadata": {},
   "outputs": [],
   "source": [
    "wilcox_tf_82_30_fp_chromvar = data.frame('stat' = wilcox_stat, \n",
    "                                         'pval' = wilcox_pval, \n",
    "                                         'tf' = gene_names_all)\n",
    "wilcox_tf_82_30_fp_chromvar$pval.adjusted = p.adjust(wilcox_tf_82_30_fp_chromvar$pval, 'fdr')\n"
   ]
  },
  {
   "cell_type": "code",
   "execution_count": 23,
   "id": "bdc3b38b-d5f2-44eb-b1ae-7c4e72e5f4b4",
   "metadata": {},
   "outputs": [
    {
     "data": {
      "text/html": [
       "<table class=\"dataframe\">\n",
       "<caption>A data.frame: 6 × 4</caption>\n",
       "<thead>\n",
       "\t<tr><th></th><th scope=col>stat</th><th scope=col>pval</th><th scope=col>tf</th><th scope=col>pval.adjusted</th></tr>\n",
       "\t<tr><th></th><th scope=col>&lt;dbl&gt;</th><th scope=col>&lt;dbl&gt;</th><th scope=col>&lt;chr&gt;</th><th scope=col>&lt;dbl&gt;</th></tr>\n",
       "</thead>\n",
       "<tbody>\n",
       "\t<tr><th scope=row>MA0004.1</th><td>12.102690</td><td>1.022188e-33</td><td>Arnt        </td><td>1.044592e-32</td></tr>\n",
       "\t<tr><th scope=row>MA0006.1</th><td>-5.788250</td><td>7.112776e-09</td><td>Ahr::Arnt   </td><td>1.956641e-08</td></tr>\n",
       "\t<tr><th scope=row>MA0019.1</th><td>-6.404817</td><td>1.505603e-10</td><td>Ddit3::Cebpa</td><td>4.719242e-10</td></tr>\n",
       "\t<tr><th scope=row>MA0029.1</th><td>-5.533607</td><td>3.137305e-08</td><td>Mecom       </td><td>8.183321e-08</td></tr>\n",
       "\t<tr><th scope=row>MA0030.1</th><td>-2.559582</td><td>1.048011e-02</td><td>FOXF2       </td><td>1.554307e-02</td></tr>\n",
       "\t<tr><th scope=row>MA0031.1</th><td>-5.380512</td><td>7.427873e-08</td><td>FOXD1       </td><td>1.859461e-07</td></tr>\n",
       "</tbody>\n",
       "</table>\n"
      ],
      "text/latex": [
       "A data.frame: 6 × 4\n",
       "\\begin{tabular}{r|llll}\n",
       "  & stat & pval & tf & pval.adjusted\\\\\n",
       "  & <dbl> & <dbl> & <chr> & <dbl>\\\\\n",
       "\\hline\n",
       "\tMA0004.1 & 12.102690 & 1.022188e-33 & Arnt         & 1.044592e-32\\\\\n",
       "\tMA0006.1 & -5.788250 & 7.112776e-09 & Ahr::Arnt    & 1.956641e-08\\\\\n",
       "\tMA0019.1 & -6.404817 & 1.505603e-10 & Ddit3::Cebpa & 4.719242e-10\\\\\n",
       "\tMA0029.1 & -5.533607 & 3.137305e-08 & Mecom        & 8.183321e-08\\\\\n",
       "\tMA0030.1 & -2.559582 & 1.048011e-02 & FOXF2        & 1.554307e-02\\\\\n",
       "\tMA0031.1 & -5.380512 & 7.427873e-08 & FOXD1        & 1.859461e-07\\\\\n",
       "\\end{tabular}\n"
      ],
      "text/markdown": [
       "\n",
       "A data.frame: 6 × 4\n",
       "\n",
       "| <!--/--> | stat &lt;dbl&gt; | pval &lt;dbl&gt; | tf &lt;chr&gt; | pval.adjusted &lt;dbl&gt; |\n",
       "|---|---|---|---|---|\n",
       "| MA0004.1 | 12.102690 | 1.022188e-33 | Arnt         | 1.044592e-32 |\n",
       "| MA0006.1 | -5.788250 | 7.112776e-09 | Ahr::Arnt    | 1.956641e-08 |\n",
       "| MA0019.1 | -6.404817 | 1.505603e-10 | Ddit3::Cebpa | 4.719242e-10 |\n",
       "| MA0029.1 | -5.533607 | 3.137305e-08 | Mecom        | 8.183321e-08 |\n",
       "| MA0030.1 | -2.559582 | 1.048011e-02 | FOXF2        | 1.554307e-02 |\n",
       "| MA0031.1 | -5.380512 | 7.427873e-08 | FOXD1        | 1.859461e-07 |\n",
       "\n"
      ],
      "text/plain": [
       "         stat      pval         tf           pval.adjusted\n",
       "MA0004.1 12.102690 1.022188e-33 Arnt         1.044592e-32 \n",
       "MA0006.1 -5.788250 7.112776e-09 Ahr::Arnt    1.956641e-08 \n",
       "MA0019.1 -6.404817 1.505603e-10 Ddit3::Cebpa 4.719242e-10 \n",
       "MA0029.1 -5.533607 3.137305e-08 Mecom        8.183321e-08 \n",
       "MA0030.1 -2.559582 1.048011e-02 FOXF2        1.554307e-02 \n",
       "MA0031.1 -5.380512 7.427873e-08 FOXD1        1.859461e-07 "
      ]
     },
     "metadata": {},
     "output_type": "display_data"
    }
   ],
   "source": [
    "head(wilcox_tf_82_30_fp_chromvar)\n"
   ]
  },
  {
   "cell_type": "markdown",
   "id": "64dbb490-ff6d-4259-8001-7999e56f4d00",
   "metadata": {},
   "source": [
    "##### Differential test for standard chromvar scores"
   ]
  },
  {
   "cell_type": "code",
   "execution_count": null,
   "id": "38bd0234-f340-4240-8bd0-7523db908bff",
   "metadata": {},
   "outputs": [],
   "source": [
    "wilcox_stat = NULL\n",
    "wilcox_pval = NULL\n",
    "for (tf in motif_names){\n",
    "  weeks82_value = weeks82_chromvar@data[tf, weeks82_PT]\n",
    "  weeks30_value = weeks30_chromvar@data[tf, weeks30_PT]\n",
    "  n1 <- sum(!is.na(weeks82_value))\n",
    "  n2 <- sum(!is.na(weeks30_value))\n",
    "  U <- wilcox.test(weeks82_value, \n",
    "                   weeks30_value)$statistic\n",
    "  mu <- n1 * n2 / 2\n",
    "  sigma <- sqrt(n1 * n2 * (n1 + n2 + 1) / 12)\n",
    "  z <- (U - mu) / sigma\n",
    "  \n",
    "  wilcox_stat = c(wilcox_stat, \n",
    "                  z)\n",
    "  wilcox_pval = c(wilcox_pval,\n",
    "                  wilcox.test(weeks82_value, \n",
    "                              weeks30_value)$p.value\n",
    "             )\n",
    "}\n"
   ]
  },
  {
   "cell_type": "code",
   "execution_count": null,
   "id": "ff439696-a9ca-45c0-8db4-17e1e4664ba4",
   "metadata": {},
   "outputs": [],
   "source": [
    "wilcox_tf_82_30_chromvar = data.frame('stat' = wilcox_stat, \n",
    "                                         'pval' = wilcox_pval, \n",
    "                                         'tf' = gene_names_all)\n",
    "wilcox_tf_82_30_chromvar$pval.adjusted = p.adjust(wilcox_tf_82_30_chromvar$pval, 'fdr')\n"
   ]
  },
  {
   "cell_type": "code",
   "execution_count": null,
   "id": "08e94863-5ce8-4b28-bc58-2b6a81228062",
   "metadata": {},
   "outputs": [],
   "source": [
    "head(wilcox_tf_82_30_chromvar)\n"
   ]
  },
  {
   "cell_type": "markdown",
   "id": "e6720406-f5b7-4cad-b4d7-c25a01a4336a",
   "metadata": {},
   "source": [
    "##### Visualizations of chromVAR scores change"
   ]
  },
  {
   "cell_type": "code",
   "execution_count": null,
   "id": "5279c90a-c42e-4142-9d5c-1af4527dc226",
   "metadata": {},
   "outputs": [],
   "source": [
    "wilcox_tf_82_30_fp_chromvar = wilcox_tf_82_30_fp_chromvar[order(wilcox_tf_82_30_fp_chromvar$stat, \n",
    "                                                                decreasing = FALSE), ]\n",
    "wilcox_tf_82_30_fp_chromvar$rank = 1:nrow(wilcox_tf_82_30_fp_chromvar)\n",
    "\n",
    "wilcox_tf_82_30_chromvar = wilcox_tf_82_30_chromvar[order(wilcox_tf_82_30_chromvar$stat, \n",
    "                                                                decreasing = FALSE), ]\n",
    "wilcox_tf_82_30_chromvar$rank = 1:nrow(wilcox_tf_82_30_chromvar)\n"
   ]
  },
  {
   "cell_type": "code",
   "execution_count": null,
   "id": "cb581103-d3d4-44a4-bf6b-555ecc3b09e4",
   "metadata": {},
   "outputs": [],
   "source": [
    "gene_interest = c('CTCF', \"NRF1\", \n",
    "                  'STAT1',\n",
    "                  'BATF', 'FOS', 'FOSL2', \n",
    "                  'JUN(var.2)', 'JUND', 'JUNB', \n",
    "                  'HNF4A', 'BATF::JUN', \n",
    "                  'ATF4', 'BATF3', \n",
    "                  'FOS::JUNB'\n",
    "                  )\n"
   ]
  },
  {
   "cell_type": "code",
   "execution_count": null,
   "id": "ae5f9ac6-8f41-4263-886f-c2632b10609c",
   "metadata": {},
   "outputs": [],
   "source": [
    "plot_chromvar_fp = ggplot(wilcox_tf_82_30_fp_chromvar, aes(x = rank, \n",
    "                                             y = stat)) + \n",
    "  geom_hline(yintercept = 0, color = 'gray', \n",
    "             linetype = 'dashed') +\n",
    "  geom_point(size = 3, color = '#9ED2BE', alpha = 0.3) + \n",
    "  geom_point(data = subset(wilcox_tf_82_30_fp_chromvar, \n",
    "                           tf %in% gene_interest), \n",
    "             size = 3, color = 'red', alpha = 0.9) + \n",
    "  ylab(\"normalized Wilcoxon stat\") + \n",
    "  ggrepel::geom_text_repel(data = subset(wilcox_tf_82_30_fp_chromvar, \n",
    "                                         tf %in% gene_interest), \n",
    "                           color = 'black',\n",
    "                           aes(label = tf), \n",
    "                           box.padding = unit(0.5, 'lines'),\n",
    "                           point.padding = unit(0.3, 'lines'),\n",
    "                           max.overlaps = 20, size = 6) +\n",
    "  theme_classic() + \n",
    "  ggtitle(\"chromVar combined footprint\") + \n",
    "  scale_x_continuous(labels = NULL, breaks = NULL,\n",
    "                     limits = c(0, dim(wilcox_tf_82_30_fp_chromvar)[1])) + \n",
    "  labs(x = '') +\n",
    "  theme(legend.title=element_blank(), \n",
    "       text = element_text(size = 20))\n"
   ]
  },
  {
   "cell_type": "code",
   "execution_count": null,
   "id": "a31940b2-bf92-4775-bf8d-48cf6574c9fb",
   "metadata": {},
   "outputs": [],
   "source": [
    "plot_chromvar_fp\n"
   ]
  },
  {
   "cell_type": "code",
   "execution_count": null,
   "id": "b3e4315b-82f7-4d69-84cd-cd368630f481",
   "metadata": {},
   "outputs": [],
   "source": [
    "plot_chromvar = ggplot(wilcox_tf_82_30_chromvar, aes(x = rank, \n",
    "                                             y = stat)) + \n",
    "  geom_hline(yintercept = 0, color = 'gray', \n",
    "             linetype = 'dashed') +\n",
    "  geom_point(size = 3, color = '#9ED2BE', alpha = 0.3) + \n",
    "  geom_point(data = subset(wilcox_tf_82_30_chromvar, \n",
    "                           tf %in% gene_interest), \n",
    "             size = 3, color = 'red', alpha = 0.9) + \n",
    "  ylab(\"normalized Wilcoxon stat\") + \n",
    "  ggrepel::geom_text_repel(data = subset(wilcox_tf_82_30_chromvar, \n",
    "                                         tf %in% gene_interest), \n",
    "                           color = 'black',\n",
    "                           aes(label = tf), \n",
    "                           box.padding = unit(0.5, 'lines'),\n",
    "                           point.padding = unit(0.3, 'lines'),\n",
    "                           max.overlaps = 20, size = 6) +\n",
    "  theme_classic() + \n",
    "  ggtitle(\"standard chromVar\") + \n",
    "  scale_x_continuous(labels = NULL, breaks = NULL,\n",
    "                     limits = c(0, dim(wilcox_tf_82_30_chromvar)[1])) + \n",
    "  labs(x = '') +\n",
    "  theme(legend.title=element_blank(), \n",
    "       text = element_text(size = 20))\n"
   ]
  },
  {
   "cell_type": "code",
   "execution_count": null,
   "id": "65a8fc24-4d92-40f4-b492-ce099fee7e54",
   "metadata": {},
   "outputs": [],
   "source": [
    "plot_chromvar\n"
   ]
  },
  {
   "cell_type": "code",
   "execution_count": null,
   "id": "5efa7c4f-fd16-45c4-82d3-bd2c65b517c4",
   "metadata": {},
   "outputs": [],
   "source": [
    "write.csv(wilcox_tf_82_30_chromvar, 'wilcox_tf_82_30_chromvar_fp.csv')"
   ]
  },
  {
   "cell_type": "code",
   "execution_count": null,
   "id": "6304974d-6ca1-4b5d-8f4a-d5b1b44844ba",
   "metadata": {},
   "outputs": [],
   "source": []
  },
  {
   "cell_type": "code",
   "execution_count": null,
   "id": "2f93a259-9ce8-430d-9be2-e86be3199a2c",
   "metadata": {},
   "outputs": [],
   "source": []
  }
 ],
 "metadata": {
  "kernelspec": {
   "display_name": "R",
   "language": "R",
   "name": "ir"
  },
  "language_info": {
   "codemirror_mode": "r",
   "file_extension": ".r",
   "mimetype": "text/x-r-source",
   "name": "R",
   "pygments_lexer": "r",
   "version": "4.4.0"
  }
 },
 "nbformat": 4,
 "nbformat_minor": 5
}
