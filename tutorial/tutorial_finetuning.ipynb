{
 "cells": [
  {
   "cell_type": "code",
   "execution_count": 1,
   "id": "310ab748-efb1-4626-b574-504b6be3223b",
   "metadata": {
    "scrolled": true
   },
   "outputs": [
    {
     "name": "stderr",
     "output_type": "stream",
     "text": [
      "── \u001b[1mAttaching core tidyverse packages\u001b[22m ──────────────────────── tidyverse 2.0.0 ──\n",
      "\u001b[32m✔\u001b[39m \u001b[34mdplyr    \u001b[39m 1.1.4     \u001b[32m✔\u001b[39m \u001b[34mreadr    \u001b[39m 2.1.5\n",
      "\u001b[32m✔\u001b[39m \u001b[34mforcats  \u001b[39m 1.0.0     \u001b[32m✔\u001b[39m \u001b[34mstringr  \u001b[39m 1.5.1\n",
      "\u001b[32m✔\u001b[39m \u001b[34mggplot2  \u001b[39m 3.5.1     \u001b[32m✔\u001b[39m \u001b[34mtibble   \u001b[39m 3.2.1\n",
      "\u001b[32m✔\u001b[39m \u001b[34mlubridate\u001b[39m 1.9.3     \u001b[32m✔\u001b[39m \u001b[34mtidyr    \u001b[39m 1.3.1\n",
      "\u001b[32m✔\u001b[39m \u001b[34mpurrr    \u001b[39m 1.0.4     \n",
      "── \u001b[1mConflicts\u001b[22m ────────────────────────────────────────── tidyverse_conflicts() ──\n",
      "\u001b[31m✖\u001b[39m \u001b[34mdplyr\u001b[39m::\u001b[32mfilter()\u001b[39m masks \u001b[34mstats\u001b[39m::filter()\n",
      "\u001b[31m✖\u001b[39m \u001b[34mdplyr\u001b[39m::\u001b[32mlag()\u001b[39m    masks \u001b[34mstats\u001b[39m::lag()\n",
      "\u001b[31m✖\u001b[39m \u001b[34mdplyr\u001b[39m::\u001b[32mselect()\u001b[39m masks \u001b[34mMASS\u001b[39m::select()\n",
      "\u001b[36mℹ\u001b[39m Use the conflicted package (\u001b[3m\u001b[34m<http://conflicted.r-lib.org/>\u001b[39m\u001b[23m) to force all conflicts to become errors\n",
      "Registered S3 method overwritten by 'GGally':\n",
      "  method from   \n",
      "  +.gg   ggplot2\n",
      "\n",
      "\n",
      "Attaching package: ‘patchwork’\n",
      "\n",
      "\n",
      "The following object is masked from ‘package:MASS’:\n",
      "\n",
      "    area\n",
      "\n",
      "\n",
      "Loading required package: stats4\n",
      "\n",
      "Loading required package: BiocGenerics\n",
      "\n",
      "\n",
      "Attaching package: ‘BiocGenerics’\n",
      "\n",
      "\n",
      "The following objects are masked from ‘package:lubridate’:\n",
      "\n",
      "    intersect, setdiff, union\n",
      "\n",
      "\n",
      "The following objects are masked from ‘package:dplyr’:\n",
      "\n",
      "    combine, intersect, setdiff, union\n",
      "\n",
      "\n",
      "The following objects are masked from ‘package:stats’:\n",
      "\n",
      "    IQR, mad, sd, var, xtabs\n",
      "\n",
      "\n",
      "The following objects are masked from ‘package:base’:\n",
      "\n",
      "    anyDuplicated, aperm, append, as.data.frame, basename, cbind,\n",
      "    colnames, dirname, do.call, duplicated, eval, evalq, Filter, Find,\n",
      "    get, grep, grepl, intersect, is.unsorted, lapply, Map, mapply,\n",
      "    match, mget, order, paste, pmax, pmax.int, pmin, pmin.int,\n",
      "    Position, rank, rbind, Reduce, rownames, sapply, setdiff, table,\n",
      "    tapply, union, unique, unsplit, which.max, which.min\n",
      "\n",
      "\n",
      "Loading required package: S4Vectors\n",
      "\n",
      "\n",
      "Attaching package: ‘S4Vectors’\n",
      "\n",
      "\n",
      "The following objects are masked from ‘package:lubridate’:\n",
      "\n",
      "    second, second<-\n",
      "\n",
      "\n",
      "The following objects are masked from ‘package:dplyr’:\n",
      "\n",
      "    first, rename\n",
      "\n",
      "\n",
      "The following object is masked from ‘package:tidyr’:\n",
      "\n",
      "    expand\n",
      "\n",
      "\n",
      "The following object is masked from ‘package:utils’:\n",
      "\n",
      "    findMatches\n",
      "\n",
      "\n",
      "The following objects are masked from ‘package:base’:\n",
      "\n",
      "    expand.grid, I, unname\n",
      "\n",
      "\n",
      "Loading required package: IRanges\n",
      "\n",
      "\n",
      "Attaching package: ‘IRanges’\n",
      "\n",
      "\n",
      "The following object is masked from ‘package:lubridate’:\n",
      "\n",
      "    %within%\n",
      "\n",
      "\n",
      "The following objects are masked from ‘package:dplyr’:\n",
      "\n",
      "    collapse, desc, slice\n",
      "\n",
      "\n",
      "The following object is masked from ‘package:purrr’:\n",
      "\n",
      "    reduce\n",
      "\n",
      "\n",
      "Loading required package: GenomeInfoDb\n",
      "\n",
      "Loading required package: BSgenome\n",
      "\n",
      "Loading required package: Biostrings\n",
      "\n",
      "Loading required package: XVector\n",
      "\n",
      "\n",
      "Attaching package: ‘XVector’\n",
      "\n",
      "\n",
      "The following object is masked from ‘package:purrr’:\n",
      "\n",
      "    compact\n",
      "\n",
      "\n",
      "\n",
      "Attaching package: ‘Biostrings’\n",
      "\n",
      "\n",
      "The following object is masked from ‘package:base’:\n",
      "\n",
      "    strsplit\n",
      "\n",
      "\n",
      "Loading required package: BiocIO\n",
      "\n",
      "\n",
      "Attaching package: ‘BiocIO’\n",
      "\n",
      "\n",
      "The following object is masked from ‘package:reticulate’:\n",
      "\n",
      "    import\n",
      "\n",
      "\n",
      "Loading required package: rtracklayer\n",
      "\n",
      "\n",
      "Attaching package: ‘rtracklayer’\n",
      "\n",
      "\n",
      "The following object is masked from ‘package:BiocIO’:\n",
      "\n",
      "    FileForFormat\n",
      "\n",
      "\n"
     ]
    }
   ],
   "source": [
    "library(reticulate)\n",
    "library(MASS)\n",
    "library(tidyverse)\n",
    "library(ggplot2)\n",
    "library(GGally)\n",
    "library(patchwork)\n",
    "library(GenomicRanges)\n",
    "library(BSgenome.Hsapiens.UCSC.hg38)\n",
    "use_condaenv(\"base\")\n"
   ]
  },
  {
   "cell_type": "code",
   "execution_count": 2,
   "id": "ab3a7dd1-619d-4d93-a8a4-03e6e2b1672e",
   "metadata": {},
   "outputs": [],
   "source": [
    "setwd(\"/home/mnt/weka/nzh/team/woodsqu2/nzhanglab/project/linyx/footprints/github\")\n",
    "source(\"code/models.R\")\n",
    "source(\"code/utils.R\")\n",
    "source(\"code/visualizations.R\")\n"
   ]
  },
  {
   "cell_type": "markdown",
   "id": "ad6e0272-26f0-4db0-86d9-e9f471a262b5",
   "metadata": {},
   "source": [
    "### Load data, preprocess\n"
   ]
  },
  {
   "cell_type": "markdown",
   "id": "e58f6267-3906-447c-ab3c-6b3539e2ea43",
   "metadata": {},
   "source": [
    "##### Now we load cell barcodes with cell type information and mitochondria regions"
   ]
  },
  {
   "cell_type": "code",
   "execution_count": 3,
   "id": "c8cc6219-9e21-4ee8-b160-f9a961590d0c",
   "metadata": {},
   "outputs": [
    {
     "data": {
      "text/html": [
       "<table class=\"dataframe\">\n",
       "<caption>A data.frame: 6 × 2</caption>\n",
       "<thead>\n",
       "\t<tr><th></th><th scope=col>barcode</th><th scope=col>celltype</th></tr>\n",
       "\t<tr><th></th><th scope=col>&lt;chr&gt;</th><th scope=col>&lt;chr&gt;</th></tr>\n",
       "</thead>\n",
       "<tbody>\n",
       "\t<tr><th scope=row>1</th><td>AAACGAAAGAGCACTG-1</td><td>PCT     </td></tr>\n",
       "\t<tr><th scope=row>2</th><td>AAACGAAAGGTTAACA-1</td><td>PCT     </td></tr>\n",
       "\t<tr><th scope=row>3</th><td>AAACGAAAGTTGACAA-1</td><td>PT_VCAM1</td></tr>\n",
       "\t<tr><th scope=row>4</th><td>AAACGAACAATTGTGC-1</td><td>PST     </td></tr>\n",
       "\t<tr><th scope=row>5</th><td>AAACGAACACATGATC-1</td><td>PCT     </td></tr>\n",
       "\t<tr><th scope=row>6</th><td>AAACGAACAGGTAGCA-1</td><td>ICB     </td></tr>\n",
       "</tbody>\n",
       "</table>\n"
      ],
      "text/latex": [
       "A data.frame: 6 × 2\n",
       "\\begin{tabular}{r|ll}\n",
       "  & barcode & celltype\\\\\n",
       "  & <chr> & <chr>\\\\\n",
       "\\hline\n",
       "\t1 & AAACGAAAGAGCACTG-1 & PCT     \\\\\n",
       "\t2 & AAACGAAAGGTTAACA-1 & PCT     \\\\\n",
       "\t3 & AAACGAAAGTTGACAA-1 & PT\\_VCAM1\\\\\n",
       "\t4 & AAACGAACAATTGTGC-1 & PST     \\\\\n",
       "\t5 & AAACGAACACATGATC-1 & PCT     \\\\\n",
       "\t6 & AAACGAACAGGTAGCA-1 & ICB     \\\\\n",
       "\\end{tabular}\n"
      ],
      "text/markdown": [
       "\n",
       "A data.frame: 6 × 2\n",
       "\n",
       "| <!--/--> | barcode &lt;chr&gt; | celltype &lt;chr&gt; |\n",
       "|---|---|---|\n",
       "| 1 | AAACGAAAGAGCACTG-1 | PCT      |\n",
       "| 2 | AAACGAAAGGTTAACA-1 | PCT      |\n",
       "| 3 | AAACGAAAGTTGACAA-1 | PT_VCAM1 |\n",
       "| 4 | AAACGAACAATTGTGC-1 | PST      |\n",
       "| 5 | AAACGAACACATGATC-1 | PCT      |\n",
       "| 6 | AAACGAACAGGTAGCA-1 | ICB      |\n",
       "\n"
      ],
      "text/plain": [
       "  barcode            celltype\n",
       "1 AAACGAAAGAGCACTG-1 PCT     \n",
       "2 AAACGAAAGGTTAACA-1 PCT     \n",
       "3 AAACGAAAGTTGACAA-1 PT_VCAM1\n",
       "4 AAACGAACAATTGTGC-1 PST     \n",
       "5 AAACGAACACATGATC-1 PCT     \n",
       "6 AAACGAACAGGTAGCA-1 ICB     "
      ]
     },
     "metadata": {},
     "output_type": "display_data"
    }
   ],
   "source": [
    "barcodes = read.csv(\"data/mitochondria/bcanno.csv\") ### the cells of interest with barcodes and grouping info\n",
    "barcodes = barcodes[c('barcode', 'celltype')]\n",
    "head(barcodes)\n"
   ]
  },
  {
   "cell_type": "markdown",
   "id": "d044b87d-be47-48be-8b75-a1a9012976aa",
   "metadata": {},
   "source": [
    "##### The cell type can be set at different resolution levels; for example, you can assign the same type to all cells if you want to create a sample pseudobulk"
   ]
  },
  {
   "cell_type": "code",
   "execution_count": 4,
   "id": "bf3f3d4a-03f7-4776-a4ed-c770d671408b",
   "metadata": {},
   "outputs": [
    {
     "data": {
      "text/html": [
       "<table class=\"dataframe\">\n",
       "<caption>A data.frame: 3 × 3</caption>\n",
       "<thead>\n",
       "\t<tr><th></th><th scope=col>chr</th><th scope=col>start</th><th scope=col>end</th></tr>\n",
       "\t<tr><th></th><th scope=col>&lt;chr&gt;</th><th scope=col>&lt;dbl&gt;</th><th scope=col>&lt;dbl&gt;</th></tr>\n",
       "</thead>\n",
       "<tbody>\n",
       "\t<tr><th scope=row>1</th><td>chrM</td><td> 501</td><td>1500</td></tr>\n",
       "\t<tr><th scope=row>2</th><td>chrM</td><td>1501</td><td>2500</td></tr>\n",
       "\t<tr><th scope=row>3</th><td>chrM</td><td>2501</td><td>3500</td></tr>\n",
       "</tbody>\n",
       "</table>\n"
      ],
      "text/latex": [
       "A data.frame: 3 × 3\n",
       "\\begin{tabular}{r|lll}\n",
       "  & chr & start & end\\\\\n",
       "  & <chr> & <dbl> & <dbl>\\\\\n",
       "\\hline\n",
       "\t1 & chrM &  501 & 1500\\\\\n",
       "\t2 & chrM & 1501 & 2500\\\\\n",
       "\t3 & chrM & 2501 & 3500\\\\\n",
       "\\end{tabular}\n"
      ],
      "text/markdown": [
       "\n",
       "A data.frame: 3 × 3\n",
       "\n",
       "| <!--/--> | chr &lt;chr&gt; | start &lt;dbl&gt; | end &lt;dbl&gt; |\n",
       "|---|---|---|---|\n",
       "| 1 | chrM |  501 | 1500 |\n",
       "| 2 | chrM | 1501 | 2500 |\n",
       "| 3 | chrM | 2501 | 3500 |\n",
       "\n"
      ],
      "text/plain": [
       "  chr  start end \n",
       "1 chrM  501  1500\n",
       "2 chrM 1501  2500\n",
       "3 chrM 2501  3500"
      ]
     },
     "metadata": {},
     "output_type": "display_data"
    }
   ],
   "source": [
    "regionsBed = data.frame('chr' = 'chrM', \n",
    "                        'start' = seq(501, 16500, 1000), \n",
    "                        'end' = seq(1500, 16500, 1000)) ## mito regions\n",
    "head(regionsBed, 3)\n"
   ]
  },
  {
   "cell_type": "markdown",
   "id": "69c410fe-f2d0-4b9c-8aea-8a28789962bc",
   "metadata": {},
   "source": [
    "##### Then we get base pair insertions from the mitochondria fragment file for each cell-type-specific pseudobulk, extracted from bam file. "
   ]
  },
  {
   "cell_type": "code",
   "execution_count": 5,
   "id": "66436ca3-2d97-46b8-bdef-9f145272407f",
   "metadata": {
    "scrolled": true
   },
   "outputs": [
    {
     "name": "stdout",
     "output_type": "stream",
     "text": [
      "Make 1bp step .. \n",
      "Reformating counts data into a list (each element is data for a region) ..\n",
      "[1] \"Re-organizing data into lists\"\n",
      "[1] \"2025-06-09 14:03:11.86856 Processing chunk 1 out of 1 chunks\"\n",
      "Generating matrix of counts for group BCELL..\n",
      "Generating matrix of counts for group DCT1..\n",
      "Generating matrix of counts for group DCT2_PC..\n",
      "Generating matrix of counts for group FIB_VSMC_MC..\n",
      "Generating matrix of counts for group ENDO..\n",
      "Generating matrix of counts for group ICB..\n",
      "Generating matrix of counts for group ICA..\n",
      "Generating matrix of counts for group MONO..\n",
      "Generating matrix of counts for group PEC..\n",
      "Generating matrix of counts for group PST..\n",
      "Generating matrix of counts for group PT_VCAM1..\n",
      "Generating matrix of counts for group TCELL..\n",
      "Generating matrix of counts for group PCT..\n",
      "Generating matrix of counts for group PODO..\n",
      "Generating matrix of counts for group PT_PROM1..\n",
      "Generating matrix of counts for group TAL..\n"
     ]
    },
    {
     "name": "stderr",
     "output_type": "stream",
     "text": [
      "Loading required package: foreach\n",
      "\n",
      "\n",
      "Attaching package: ‘foreach’\n",
      "\n",
      "\n",
      "The following objects are masked from ‘package:purrr’:\n",
      "\n",
      "    accumulate, when\n",
      "\n",
      "\n",
      "Loading required package: iterators\n",
      "\n",
      "Loading required package: parallel\n",
      "\n"
     ]
    },
    {
     "name": "stdout",
     "output_type": "stream",
     "text": [
      "  |======================================================================| 100%Done!\n",
      "Time elapsed:  11.4461 secs  \n",
      "\n"
     ]
    }
   ],
   "source": [
    "counts = get_count(\"data/mitochondria/fragments_collapse_within.tsv.gz\", ### path to fragments\n",
    "                   regionsBed, ### peak regions\n",
    "                   barcodes) ### cells of interest\n",
    "saveRDS(counts, 'data/mitochondria/counts.rds')\n"
   ]
  },
  {
   "cell_type": "markdown",
   "id": "15c1a768-dd48-448f-afa6-ce9163a9b4d4",
   "metadata": {},
   "source": [
    "##### Extract the DNA sequence within a local window (±50 bp) centered on each base pair\n"
   ]
  },
  {
   "cell_type": "code",
   "execution_count": 6,
   "id": "0e217efd-3790-4aca-b092-24f032e1f997",
   "metadata": {},
   "outputs": [],
   "source": [
    "### base pair level\n",
    "regions = data.frame('chr' = 'chrM', \n",
    "                        'start' = 501:16500, \n",
    "                        'end' = 501:16500)\n",
    "ranges = IRanges::IRanges(start = regions$start, \n",
    "                          end = regions$end)\n",
    "regions = makeGRangesFromDataFrame(regions)\n",
    "\n",
    "contextRadius = 50\n",
    "contextLen = 2*contextRadius + 1\n",
    "regionSeqs = pbmcapply::pbmclapply(\n",
    "  1:length(regions),\n",
    "  function(regionInd){\n",
    "    range = regions[regionInd]\n",
    "    ### get the dna sequence for each base pair\n",
    "    regionSeq = Biostrings::getSeq(BSgenome.Hsapiens.UCSC.hg38::BSgenome.Hsapiens.UCSC.hg38, ### reference genome\n",
    "                                   as.character(seqnames(range)), \n",
    "                                   start = start(range) - contextRadius, ### window size 100\n",
    "                                   width = width(range) + contextLen - 1,\n",
    "                                   as.character = T)\n",
    "    regionSeq\n",
    "  },\n",
    "  mc.cores = 8\n",
    ")\n",
    "\n",
    "context = do.call(rbind.data.frame, regionSeqs)\n"
   ]
  },
  {
   "cell_type": "markdown",
   "id": "545f2ee4-d38c-4ed2-8cc2-f5b1389e874b",
   "metadata": {},
   "source": [
    "##### Identify base pairs whose local DNA sequence contains an 'N'."
   ]
  },
  {
   "cell_type": "code",
   "execution_count": 7,
   "id": "6f4651f1-1b8e-40b3-8fdd-f45a6762b3cc",
   "metadata": {},
   "outputs": [],
   "source": [
    "index_n = which(apply(context, 1, function(x) grepl('N', x, fixed = TRUE)))\n"
   ]
  },
  {
   "cell_type": "markdown",
   "id": "86f3a484-b255-40e3-ae4f-805f884e2284",
   "metadata": {},
   "source": [
    "##### Create a DataFrame containing insertions, local window DNA sequences, and relative Tn5 insertion counts for each base pair in mitochondrial regions"
   ]
  },
  {
   "cell_type": "code",
   "execution_count": 8,
   "id": "41d59b65-180e-484e-bcc9-3ee2647ce39b",
   "metadata": {},
   "outputs": [],
   "source": [
    "insertions = NULL\n",
    "for (i in 1:16){\n",
    "  insertions = c(insertions, get_insertions(countData = counts, \n",
    "                                            regionInd = i, \n",
    "                                            groupIDs = unique(counts[[i]]$group), \n",
    "                                            width = 1000))\n",
    "}\n",
    "\n",
    "obsbias = data.frame('context' = context, \n",
    "                     'insertions' = as.numeric(insertions))\n",
    "obsbias$positions = 501:16500\n",
    "colnames(obsbias) = c('context', 'insertions', 'positions')\n",
    "\n",
    "obsbias$insertions = as.numeric(obsbias$insertions)\n",
    "obsbias$positions = as.numeric(obsbias$positions)\n",
    "obsbias['obs_bias'] = apply(obsbias, 1, function(x){\n",
    "  as.numeric(x[2])/as.numeric(mean(obsbias[as.numeric(obsbias$positions) >= as.numeric(x[3]) - 50 & \n",
    "                                             as.numeric(obsbias$positions) <= as.numeric(x[3]) + 50, \"insertions\"]))\n",
    "  }\n",
    ")\n",
    "\n",
    "rownames(obsbias) = NULL\n",
    "obsbias$BACInd = rep(1:16, each = 1000)\n"
   ]
  },
  {
   "cell_type": "code",
   "execution_count": 9,
   "id": "40a42ce1-ce07-44fb-9a64-40578988690c",
   "metadata": {},
   "outputs": [
    {
     "data": {
      "text/html": [
       "<table class=\"dataframe\">\n",
       "<caption>A data.frame: 6 × 5</caption>\n",
       "<thead>\n",
       "\t<tr><th></th><th scope=col>context</th><th scope=col>insertions</th><th scope=col>positions</th><th scope=col>obs_bias</th><th scope=col>BACInd</th></tr>\n",
       "\t<tr><th></th><th scope=col>&lt;chr&gt;</th><th scope=col>&lt;dbl&gt;</th><th scope=col>&lt;dbl&gt;</th><th scope=col>&lt;dbl&gt;</th><th scope=col>&lt;int&gt;</th></tr>\n",
       "</thead>\n",
       "<tbody>\n",
       "\t<tr><th scope=row>1</th><td>ATTTTCCCCTCCCACTCCCATACTACTAATCTCATCAATACAACCCCCGCCCATCCTACCCAGCACACACACACCGCTGCTAACCCCATACCCCGAACCAA</td><td> 797</td><td>501</td><td>0.5085388</td><td>1</td></tr>\n",
       "\t<tr><th scope=row>2</th><td>TTTTCCCCTCCCACTCCCATACTACTAATCTCATCAATACAACCCCCGCCCATCCTACCCAGCACACACACACCGCTGCTAACCCCATACCCCGAACCAAC</td><td>3029</td><td>502</td><td>1.9687762</td><td>1</td></tr>\n",
       "\t<tr><th scope=row>3</th><td>TTTCCCCTCCCACTCCCATACTACTAATCTCATCAATACAACCCCCGCCCATCCTACCCAGCACACACACACCGCTGCTAACCCCATACCCCGAACCAACC</td><td> 264</td><td>503</td><td>0.1731726</td><td>1</td></tr>\n",
       "\t<tr><th scope=row>4</th><td>TTCCCCTCCCACTCCCATACTACTAATCTCATCAATACAACCCCCGCCCATCCTACCCAGCACACACACACCGCTGCTAACCCCATACCCCGAACCAACCA</td><td> 303</td><td>504</td><td>0.1983297</td><td>1</td></tr>\n",
       "\t<tr><th scope=row>5</th><td>TCCCCTCCCACTCCCATACTACTAATCTCATCAATACAACCCCCGCCCATCCTACCCAGCACACACACACCGCTGCTAACCCCATACCCCGAACCAACCAA</td><td>1093</td><td>505</td><td>0.7164565</td><td>1</td></tr>\n",
       "\t<tr><th scope=row>6</th><td>CCCCTCCCACTCCCATACTACTAATCTCATCAATACAACCCCCGCCCATCCTACCCAGCACACACACACCGCTGCTAACCCCATACCCCGAACCAACCAAA</td><td> 942</td><td>506</td><td>0.6271190</td><td>1</td></tr>\n",
       "</tbody>\n",
       "</table>\n"
      ],
      "text/latex": [
       "A data.frame: 6 × 5\n",
       "\\begin{tabular}{r|lllll}\n",
       "  & context & insertions & positions & obs\\_bias & BACInd\\\\\n",
       "  & <chr> & <dbl> & <dbl> & <dbl> & <int>\\\\\n",
       "\\hline\n",
       "\t1 & ATTTTCCCCTCCCACTCCCATACTACTAATCTCATCAATACAACCCCCGCCCATCCTACCCAGCACACACACACCGCTGCTAACCCCATACCCCGAACCAA &  797 & 501 & 0.5085388 & 1\\\\\n",
       "\t2 & TTTTCCCCTCCCACTCCCATACTACTAATCTCATCAATACAACCCCCGCCCATCCTACCCAGCACACACACACCGCTGCTAACCCCATACCCCGAACCAAC & 3029 & 502 & 1.9687762 & 1\\\\\n",
       "\t3 & TTTCCCCTCCCACTCCCATACTACTAATCTCATCAATACAACCCCCGCCCATCCTACCCAGCACACACACACCGCTGCTAACCCCATACCCCGAACCAACC &  264 & 503 & 0.1731726 & 1\\\\\n",
       "\t4 & TTCCCCTCCCACTCCCATACTACTAATCTCATCAATACAACCCCCGCCCATCCTACCCAGCACACACACACCGCTGCTAACCCCATACCCCGAACCAACCA &  303 & 504 & 0.1983297 & 1\\\\\n",
       "\t5 & TCCCCTCCCACTCCCATACTACTAATCTCATCAATACAACCCCCGCCCATCCTACCCAGCACACACACACCGCTGCTAACCCCATACCCCGAACCAACCAA & 1093 & 505 & 0.7164565 & 1\\\\\n",
       "\t6 & CCCCTCCCACTCCCATACTACTAATCTCATCAATACAACCCCCGCCCATCCTACCCAGCACACACACACCGCTGCTAACCCCATACCCCGAACCAACCAAA &  942 & 506 & 0.6271190 & 1\\\\\n",
       "\\end{tabular}\n"
      ],
      "text/markdown": [
       "\n",
       "A data.frame: 6 × 5\n",
       "\n",
       "| <!--/--> | context &lt;chr&gt; | insertions &lt;dbl&gt; | positions &lt;dbl&gt; | obs_bias &lt;dbl&gt; | BACInd &lt;int&gt; |\n",
       "|---|---|---|---|---|---|\n",
       "| 1 | ATTTTCCCCTCCCACTCCCATACTACTAATCTCATCAATACAACCCCCGCCCATCCTACCCAGCACACACACACCGCTGCTAACCCCATACCCCGAACCAA |  797 | 501 | 0.5085388 | 1 |\n",
       "| 2 | TTTTCCCCTCCCACTCCCATACTACTAATCTCATCAATACAACCCCCGCCCATCCTACCCAGCACACACACACCGCTGCTAACCCCATACCCCGAACCAAC | 3029 | 502 | 1.9687762 | 1 |\n",
       "| 3 | TTTCCCCTCCCACTCCCATACTACTAATCTCATCAATACAACCCCCGCCCATCCTACCCAGCACACACACACCGCTGCTAACCCCATACCCCGAACCAACC |  264 | 503 | 0.1731726 | 1 |\n",
       "| 4 | TTCCCCTCCCACTCCCATACTACTAATCTCATCAATACAACCCCCGCCCATCCTACCCAGCACACACACACCGCTGCTAACCCCATACCCCGAACCAACCA |  303 | 504 | 0.1983297 | 1 |\n",
       "| 5 | TCCCCTCCCACTCCCATACTACTAATCTCATCAATACAACCCCCGCCCATCCTACCCAGCACACACACACCGCTGCTAACCCCATACCCCGAACCAACCAA | 1093 | 505 | 0.7164565 | 1 |\n",
       "| 6 | CCCCTCCCACTCCCATACTACTAATCTCATCAATACAACCCCCGCCCATCCTACCCAGCACACACACACCGCTGCTAACCCCATACCCCGAACCAACCAAA |  942 | 506 | 0.6271190 | 1 |\n",
       "\n"
      ],
      "text/plain": [
       "  context                                                                                              \n",
       "1 ATTTTCCCCTCCCACTCCCATACTACTAATCTCATCAATACAACCCCCGCCCATCCTACCCAGCACACACACACCGCTGCTAACCCCATACCCCGAACCAA\n",
       "2 TTTTCCCCTCCCACTCCCATACTACTAATCTCATCAATACAACCCCCGCCCATCCTACCCAGCACACACACACCGCTGCTAACCCCATACCCCGAACCAAC\n",
       "3 TTTCCCCTCCCACTCCCATACTACTAATCTCATCAATACAACCCCCGCCCATCCTACCCAGCACACACACACCGCTGCTAACCCCATACCCCGAACCAACC\n",
       "4 TTCCCCTCCCACTCCCATACTACTAATCTCATCAATACAACCCCCGCCCATCCTACCCAGCACACACACACCGCTGCTAACCCCATACCCCGAACCAACCA\n",
       "5 TCCCCTCCCACTCCCATACTACTAATCTCATCAATACAACCCCCGCCCATCCTACCCAGCACACACACACCGCTGCTAACCCCATACCCCGAACCAACCAA\n",
       "6 CCCCTCCCACTCCCATACTACTAATCTCATCAATACAACCCCCGCCCATCCTACCCAGCACACACACACCGCTGCTAACCCCATACCCCGAACCAACCAAA\n",
       "  insertions positions obs_bias  BACInd\n",
       "1  797       501       0.5085388 1     \n",
       "2 3029       502       1.9687762 1     \n",
       "3  264       503       0.1731726 1     \n",
       "4  303       504       0.1983297 1     \n",
       "5 1093       505       0.7164565 1     \n",
       "6  942       506       0.6271190 1     "
      ]
     },
     "metadata": {},
     "output_type": "display_data"
    }
   ],
   "source": [
    "head(obsbias)\n"
   ]
  },
  {
   "cell_type": "markdown",
   "id": "d4692d7d-4d61-4c53-a462-6520c2daa5e6",
   "metadata": {},
   "source": [
    "##### Save the observed bias in mitochondria. Since the input only accepts ATCG, exclude base pairs whose local context contains 'N'"
   ]
  },
  {
   "cell_type": "code",
   "execution_count": 10,
   "id": "9af1b546-56bd-4424-8f36-504ad99cedbe",
   "metadata": {},
   "outputs": [],
   "source": [
    "write.table(obsbias, 'data/footprints_identification/obsBias.tsv', sep = \"\\t\")\n",
    "obsBias_finetuned = obsbias[-index_n, ]\n",
    "write.table(obsBias_finetuned, 'data/footprints_identification/obsBias_finetuned.tsv', sep = \"\\t\")\n"
   ]
  },
  {
   "cell_type": "markdown",
   "id": "856be1ea-cd02-4eb6-a124-cda1f7e0314e",
   "metadata": {},
   "source": [
    "### Finetuned the model with observed bias in mitochondria. \n"
   ]
  },
  {
   "cell_type": "code",
   "execution_count": null,
   "id": "36d439f1-f4f8-4cc8-b4e2-d44de5e113df",
   "metadata": {},
   "outputs": [],
   "source": [
    "finetuned_model(code_path = \"code/\", \n",
    "                obsbias_path = \"data/mitochondria/obsBias_finetuned.tsv\", \n",
    "                PRINT_model_path = \"data/shared/Tn5_NN_model.h5\", \n",
    "                finetuned_model_save_path = \"data/shared/\", \n",
    "                finetuned_model_name = \"Tn5_NN_model_Control_6_freezed_finetuned.h5\"\n",
    "                )\n"
   ]
  },
  {
   "cell_type": "markdown",
   "id": "b135a805-5c60-44b2-89b8-d116c9356cc4",
   "metadata": {},
   "source": [
    "### Mitochondrial in-sample fdr controls"
   ]
  },
  {
   "cell_type": "markdown",
   "id": "1e7cf83a-d289-4afc-8c96-92dc755ae4ee",
   "metadata": {},
   "source": [
    "#### Load insertions and predicted bias derived from finetuning"
   ]
  },
  {
   "cell_type": "code",
   "execution_count": null,
   "id": "60a0c4d9-a19c-4e30-895c-ec60d38a87c8",
   "metadata": {},
   "outputs": [],
   "source": [
    "mito_counts = readRDS('data/mitochondria/counts.rds')\n",
    "mito_regions = data.frame('chr' = 'chrM', \n",
    "                        'start' = seq(501, 16500, 1000), \n",
    "                        'end' = seq(1500, 16500, 1000))\n"
   ]
  },
  {
   "cell_type": "code",
   "execution_count": null,
   "id": "b4f6d480-adb7-426d-b447-af8814c0cd52",
   "metadata": {},
   "outputs": [],
   "source": [
    "get_bias(regionsBed, ### peak file\n",
    "         referenceGenome = 'hg38',  ### reference genome\n",
    "         path = paste0(getwd(), '/data/mitochondria/freezed_finetuned_'), ### save path\n",
    "         model_path = 'data/shared/', ### path to the Tn5 model\n",
    "         code_path = 'code/', ### path to code\n",
    "         model_use = 'Tn5_NN_model_Control_6_freezed_finetuned.h5') ### name of Tn5 model\n"
   ]
  },
  {
   "cell_type": "code",
   "execution_count": null,
   "id": "7c7f314f-041b-454c-ac33-36e0607c138e",
   "metadata": {},
   "outputs": [],
   "source": [
    "mito_bias = read.table(\"data/mitochondria/freezed_finetuned_pred_bias.txt\")\n"
   ]
  },
  {
   "cell_type": "code",
   "execution_count": null,
   "id": "05faf9bf-0a84-4fc8-9f1e-c95e73beb08e",
   "metadata": {},
   "outputs": [],
   "source": [
    "### takes long, better run in parallel. \n",
    "if (F) {\n",
    "    logp_threshold = mito_fdr(mito_counts = mito_counts, \n",
    "                              mito_bias = mito_bias, \n",
    "                              mito_regions = mito_regions, \n",
    "                              i = 11, ### test region\n",
    "                              seeds = 1:100, ### downsampling seed, repeat for 100 times \n",
    "                              average_insertions = c(seq(0.1, 5, 0.1), seq(5.5, 40, 0.5)), ### downsample target: average insertions\n",
    "                              alpha = 0.05) ### fdr \n",
    "    write.table(logp_threshold, 'data/mitochondria/logp_threshold.txt')\n",
    "}\n"
   ]
  },
  {
   "cell_type": "code",
   "execution_count": null,
   "id": "99657466-d2da-432a-9352-b6fe05c7a4a8",
   "metadata": {},
   "outputs": [],
   "source": [
    "logp_threshold = read.table(\"data/mitochondria/logp_threshold.txt\")\n",
    "head(logp_threshold) \n"
   ]
  },
  {
   "cell_type": "code",
   "execution_count": null,
   "id": "04e8bad1-510e-4f95-95e8-8c0244fc5d82",
   "metadata": {},
   "outputs": [],
   "source": []
  },
  {
   "cell_type": "code",
   "execution_count": null,
   "id": "b9264d2c-a5c0-4531-8c84-07f562b7ac28",
   "metadata": {},
   "outputs": [],
   "source": []
  },
  {
   "cell_type": "code",
   "execution_count": null,
   "id": "b64055bb-d789-47e7-864b-9d184e6b7f28",
   "metadata": {},
   "outputs": [],
   "source": []
  }
 ],
 "metadata": {
  "kernelspec": {
   "display_name": "R",
   "language": "R",
   "name": "ir"
  },
  "language_info": {
   "codemirror_mode": "r",
   "file_extension": ".r",
   "mimetype": "text/x-r-source",
   "name": "R",
   "pygments_lexer": "r",
   "version": "4.4.0"
  }
 },
 "nbformat": 4,
 "nbformat_minor": 5
}
