{
 "cells": [
  {
   "cell_type": "code",
   "execution_count": 1,
   "id": "98a3749a-fc0f-45b1-ad90-ecabf60d81b3",
   "metadata": {},
   "outputs": [
    {
     "name": "stderr",
     "output_type": "stream",
     "text": [
      "── \u001b[1mAttaching core tidyverse packages\u001b[22m ──────────────────────── tidyverse 2.0.0 ──\n",
      "\u001b[32m✔\u001b[39m \u001b[34mdplyr    \u001b[39m 1.1.4     \u001b[32m✔\u001b[39m \u001b[34mreadr    \u001b[39m 2.1.5\n",
      "\u001b[32m✔\u001b[39m \u001b[34mforcats  \u001b[39m 1.0.0     \u001b[32m✔\u001b[39m \u001b[34mstringr  \u001b[39m 1.5.1\n",
      "\u001b[32m✔\u001b[39m \u001b[34mggplot2  \u001b[39m 3.5.1     \u001b[32m✔\u001b[39m \u001b[34mtibble   \u001b[39m 3.2.1\n",
      "\u001b[32m✔\u001b[39m \u001b[34mlubridate\u001b[39m 1.9.3     \u001b[32m✔\u001b[39m \u001b[34mtidyr    \u001b[39m 1.3.1\n",
      "\u001b[32m✔\u001b[39m \u001b[34mpurrr    \u001b[39m 1.0.4     \n",
      "── \u001b[1mConflicts\u001b[22m ────────────────────────────────────────── tidyverse_conflicts() ──\n",
      "\u001b[31m✖\u001b[39m \u001b[34mdplyr\u001b[39m::\u001b[32mfilter()\u001b[39m masks \u001b[34mstats\u001b[39m::filter()\n",
      "\u001b[31m✖\u001b[39m \u001b[34mdplyr\u001b[39m::\u001b[32mlag()\u001b[39m    masks \u001b[34mstats\u001b[39m::lag()\n",
      "\u001b[36mℹ\u001b[39m Use the conflicted package (\u001b[3m\u001b[34m<http://conflicted.r-lib.org/>\u001b[39m\u001b[23m) to force all conflicts to become errors\n"
     ]
    }
   ],
   "source": [
    "library(tidyverse)\n"
   ]
  },
  {
   "cell_type": "code",
   "execution_count": 2,
   "id": "db4ca8d8-e472-4411-a614-ef36fe7d0534",
   "metadata": {},
   "outputs": [],
   "source": [
    "### 10x ----\n",
    "pbmc_scatac = read.table(\"/home/mnt/weka/nzh/team/woodsqu2/nzhanglab/project/linyx/footprints/PRINT/data/batch_effects/PBMC_atac/obsBias.tsv\")\n",
    "pbmc_multiome = read.table(\"/home/mnt/weka/nzh/team/woodsqu2/nzhanglab/project/linyx/footprints/PRINT/data/batch_effects/pbmc_multiome/obsBias.tsv\")\n",
    "brain_multi = read.table(\"/home/mnt/weka/nzh/team/woodsqu2/nzhanglab/project/linyx/footprints/PRINT/data/batch_effects/human_brain_scmultiome/obsBias.tsv\")\n",
    "lymph_node = read.table(\"/home/mnt/weka/nzh/team/woodsqu2/nzhanglab/project/linyx/footprints/PRINT/data/batch_effects/lymph_node/obsBias.tsv\")\n",
    "\n",
    "### gene silencing  ----\n",
    "setwd(\"/home/mnt/weka/nzh/team/woodsqu2/nzhanglab/project/linyx/footprints/PRINT/data/degron\")\n",
    "degron_ctcf_control = read.csv('CTCF/control/mtDNA/obsBias.tsv', sep = '\\t')\n",
    "degron_ctcf_treatment = read.csv('CTCF/treatment/mtDNA/obsBias.tsv', sep = '\\t')\n",
    "degron_polr2a_control = read.csv('POLR2A/control/mtDNA/obsBias.tsv', sep = '\\t')\n",
    "degron_polr2a_treatment = read.csv('POLR2A/treatment/mtDNA/obsBias.tsv', sep = '\\t')\n",
    "\n",
    "### snATAC ----\n",
    "setwd(\"/home/mnt/weka/nzh/team/woodsqu2/nzhanglab/project/linyx/footprints/PRINT/data/batch_effects/snATAC_mtDNA/\")\n",
    "obsbias_SAMN18736215 = read.table('SAMN18736215/mtDNA/obsBias.tsv')\n",
    "obsbias_SAMN18736216 = read.table('SAMN18736216/mtDNA/obsBias.tsv')\n",
    "obsbias_SAMN27505541 = read.table('SAMN27505541/mtDNA/obsBias.tsv')\n",
    "obsbias_SAMN27505542 = read.table('SAMN27505542/mtDNA/obsBias.tsv')\n",
    "obsbias_SAMN27505543 = read.table('SAMN27505543/mtDNA/obsBias.tsv')\n",
    "obsbias_SAMN27505544 = read.table('SAMN27505544/mtDNA/obsBias.tsv')\n",
    "\n",
    "obsbias_Control_1 = read.table('Control_1/mtDNA/obsBias.tsv')\n",
    "obsbias_Control_2 = read.table('Control_2/mtDNA/obsBias.tsv')\n",
    "obsbias_Control_3 = read.table('Control_3/mtDNA/obsBias.tsv')\n",
    "obsbias_Control_4 = read.table('Control_4/mtDNA/obsBias.tsv')\n",
    "obsbias_Control_5 = read.table('Control_5/mtDNA/obsBias.tsv')\n",
    "obsbias_Control_6 = read.table('Control_6/mtDNA/obsBias.tsv')\n",
    "\n",
    "obsbias_DN_1 = read.table('DN_1/mtDNA/obsBias.tsv')\n",
    "obsbias_DN_2 = read.table('DN_2/mtDNA/obsBias.tsv')\n",
    "obsbias_DN_3 = read.table('DN_3/mtDNA/obsBias.tsv')\n",
    "obsbias_DN_4 = read.table('DN_4/mtDNA/obsBias.tsv')\n",
    "obsbias_DN_5 = read.table('DN_5/mtDNA/obsBias.tsv')\n",
    "obsbias_DN_6 = read.table('DN_6/mtDNA/obsBias.tsv')\n",
    "\n",
    "obsbias_CKD_1 = read.table('CKD_1/mtDNA/obsBias.tsv')\n",
    "obsbias_CKD_2 = read.table('CKD_2/mtDNA/obsBias.tsv')\n",
    "obsbias_CKD_3 = read.table('CKD_3/mtDNA/obsBias.tsv')\n",
    "obsbias_CKD_4 = read.table('CKD_4/mtDNA/obsBias.tsv')\n",
    "obsbias_CKD_5 = read.table('CKD_5/mtDNA/obsBias.tsv')\n",
    "\n",
    "### Multiome ----\n",
    "setwd(\"/home/mnt/weka/nzh/team/woodsqu2/nzhanglab/project/linyx/footprints/PRINT/data/batch_effects/multiome_kidney_mtDNA\")\n",
    "\n",
    "obsbias_090922Nx = read.table('090922Nx/mtDNA/obsBias.tsv')\n",
    "obsbias_091422Nx = read.table('091422Nx/mtDNA/obsBias.tsv')\n",
    "obsbias_1_27Nx = read.table('1-27Nx/mtDNA/obsBias.tsv')\n",
    "obsbias_2_15Nx = read.table('2-15Nx/mtDNA/obsBias.tsv')\n",
    "obsbias_A2 = read.table('A2/mtDNA/obsBias.tsv')\n",
    "obsbias_AIIM164 = read.table('AIIM164/mtDNA/obsBias.tsv')\n",
    "obsbias_AIL5160 = read.table('AIL5160/mtDNA/obsBias.tsv')\n",
    "obsbias_AJDL105 = read.table('AJDL105/mtDNA/obsBias.tsv')\n",
    "obsbias_AJDV174 = read.table('AJDV174/mtDNA/obsBias.tsv')\n"
   ]
  },
  {
   "cell_type": "code",
   "execution_count": 3,
   "id": "11d15cae-4b43-4fcf-ab41-3e6ca64fa52c",
   "metadata": {},
   "outputs": [
    {
     "data": {
      "text/html": [
       "<table class=\"dataframe\">\n",
       "<caption>A data.frame: 6 × 5</caption>\n",
       "<thead>\n",
       "\t<tr><th></th><th scope=col>context</th><th scope=col>insertions</th><th scope=col>positions</th><th scope=col>obs_bias</th><th scope=col>BACInd</th></tr>\n",
       "\t<tr><th></th><th scope=col>&lt;chr&gt;</th><th scope=col>&lt;int&gt;</th><th scope=col>&lt;int&gt;</th><th scope=col>&lt;dbl&gt;</th><th scope=col>&lt;int&gt;</th></tr>\n",
       "</thead>\n",
       "<tbody>\n",
       "\t<tr><th scope=row>4000</th><td>GTTATACCCTTCCCGTACTAATTAATCCCCTGGCCCAACCCGTCATCTACTCTACCATCTTTGCAGGCACACTCATCACAGCGCTAAGCTCGCACTGATTT</td><td>48</td><td>4500</td><td>6.2635659</td><td>4</td></tr>\n",
       "\t<tr><th scope=row>4001</th><td>TTATACCCTTCCCGTACTAATTAATCCCCTGGCCCAACCCGTCATCTACTCTACCATCTTTGCAGGCACACTCATCACAGCGCTAAGCTCGCACTGATTTT</td><td> 0</td><td>4501</td><td>0.0000000</td><td>5</td></tr>\n",
       "\t<tr><th scope=row>4002</th><td>TATACCCTTCCCGTACTAATTAATCCCCTGGCCCAACCCGTCATCTACTCTACCATCTTTGCAGGCACACTCATCACAGCGCTAAGCTCGCACTGATTTTT</td><td> 3</td><td>4502</td><td>0.3929961</td><td>5</td></tr>\n",
       "\t<tr><th scope=row>4003</th><td>ATACCCTTCCCGTACTAATTAATCCCCTGGCCCAACCCGTCATCTACTCTACCATCTTTGCAGGCACACTCATCACAGCGCTAAGCTCGCACTGATTTTTT</td><td> 2</td><td>4503</td><td>0.2650919</td><td>5</td></tr>\n",
       "\t<tr><th scope=row>4004</th><td>TACCCTTCCCGTACTAATTAATCCCCTGGCCCAACCCGTCATCTACTCTACCATCTTTGCAGGCACACTCATCACAGCGCTAAGCTCGCACTGATTTTTTA</td><td> 3</td><td>4504</td><td>0.4303977</td><td>5</td></tr>\n",
       "\t<tr><th scope=row>4005</th><td>ACCCTTCCCGTACTAATTAATCCCCTGGCCCAACCCGTCATCTACTCTACCATCTTTGCAGGCACACTCATCACAGCGCTAAGCTCGCACTGATTTTTTAC</td><td> 3</td><td>4505</td><td>0.4749216</td><td>5</td></tr>\n",
       "</tbody>\n",
       "</table>\n"
      ],
      "text/latex": [
       "A data.frame: 6 × 5\n",
       "\\begin{tabular}{r|lllll}\n",
       "  & context & insertions & positions & obs\\_bias & BACInd\\\\\n",
       "  & <chr> & <int> & <int> & <dbl> & <int>\\\\\n",
       "\\hline\n",
       "\t4000 & GTTATACCCTTCCCGTACTAATTAATCCCCTGGCCCAACCCGTCATCTACTCTACCATCTTTGCAGGCACACTCATCACAGCGCTAAGCTCGCACTGATTT & 48 & 4500 & 6.2635659 & 4\\\\\n",
       "\t4001 & TTATACCCTTCCCGTACTAATTAATCCCCTGGCCCAACCCGTCATCTACTCTACCATCTTTGCAGGCACACTCATCACAGCGCTAAGCTCGCACTGATTTT &  0 & 4501 & 0.0000000 & 5\\\\\n",
       "\t4002 & TATACCCTTCCCGTACTAATTAATCCCCTGGCCCAACCCGTCATCTACTCTACCATCTTTGCAGGCACACTCATCACAGCGCTAAGCTCGCACTGATTTTT &  3 & 4502 & 0.3929961 & 5\\\\\n",
       "\t4003 & ATACCCTTCCCGTACTAATTAATCCCCTGGCCCAACCCGTCATCTACTCTACCATCTTTGCAGGCACACTCATCACAGCGCTAAGCTCGCACTGATTTTTT &  2 & 4503 & 0.2650919 & 5\\\\\n",
       "\t4004 & TACCCTTCCCGTACTAATTAATCCCCTGGCCCAACCCGTCATCTACTCTACCATCTTTGCAGGCACACTCATCACAGCGCTAAGCTCGCACTGATTTTTTA &  3 & 4504 & 0.4303977 & 5\\\\\n",
       "\t4005 & ACCCTTCCCGTACTAATTAATCCCCTGGCCCAACCCGTCATCTACTCTACCATCTTTGCAGGCACACTCATCACAGCGCTAAGCTCGCACTGATTTTTTAC &  3 & 4505 & 0.4749216 & 5\\\\\n",
       "\\end{tabular}\n"
      ],
      "text/markdown": [
       "\n",
       "A data.frame: 6 × 5\n",
       "\n",
       "| <!--/--> | context &lt;chr&gt; | insertions &lt;int&gt; | positions &lt;int&gt; | obs_bias &lt;dbl&gt; | BACInd &lt;int&gt; |\n",
       "|---|---|---|---|---|---|\n",
       "| 4000 | GTTATACCCTTCCCGTACTAATTAATCCCCTGGCCCAACCCGTCATCTACTCTACCATCTTTGCAGGCACACTCATCACAGCGCTAAGCTCGCACTGATTT | 48 | 4500 | 6.2635659 | 4 |\n",
       "| 4001 | TTATACCCTTCCCGTACTAATTAATCCCCTGGCCCAACCCGTCATCTACTCTACCATCTTTGCAGGCACACTCATCACAGCGCTAAGCTCGCACTGATTTT |  0 | 4501 | 0.0000000 | 5 |\n",
       "| 4002 | TATACCCTTCCCGTACTAATTAATCCCCTGGCCCAACCCGTCATCTACTCTACCATCTTTGCAGGCACACTCATCACAGCGCTAAGCTCGCACTGATTTTT |  3 | 4502 | 0.3929961 | 5 |\n",
       "| 4003 | ATACCCTTCCCGTACTAATTAATCCCCTGGCCCAACCCGTCATCTACTCTACCATCTTTGCAGGCACACTCATCACAGCGCTAAGCTCGCACTGATTTTTT |  2 | 4503 | 0.2650919 | 5 |\n",
       "| 4004 | TACCCTTCCCGTACTAATTAATCCCCTGGCCCAACCCGTCATCTACTCTACCATCTTTGCAGGCACACTCATCACAGCGCTAAGCTCGCACTGATTTTTTA |  3 | 4504 | 0.4303977 | 5 |\n",
       "| 4005 | ACCCTTCCCGTACTAATTAATCCCCTGGCCCAACCCGTCATCTACTCTACCATCTTTGCAGGCACACTCATCACAGCGCTAAGCTCGCACTGATTTTTTAC |  3 | 4505 | 0.4749216 | 5 |\n",
       "\n"
      ],
      "text/plain": [
       "     context                                                                                              \n",
       "4000 GTTATACCCTTCCCGTACTAATTAATCCCCTGGCCCAACCCGTCATCTACTCTACCATCTTTGCAGGCACACTCATCACAGCGCTAAGCTCGCACTGATTT\n",
       "4001 TTATACCCTTCCCGTACTAATTAATCCCCTGGCCCAACCCGTCATCTACTCTACCATCTTTGCAGGCACACTCATCACAGCGCTAAGCTCGCACTGATTTT\n",
       "4002 TATACCCTTCCCGTACTAATTAATCCCCTGGCCCAACCCGTCATCTACTCTACCATCTTTGCAGGCACACTCATCACAGCGCTAAGCTCGCACTGATTTTT\n",
       "4003 ATACCCTTCCCGTACTAATTAATCCCCTGGCCCAACCCGTCATCTACTCTACCATCTTTGCAGGCACACTCATCACAGCGCTAAGCTCGCACTGATTTTTT\n",
       "4004 TACCCTTCCCGTACTAATTAATCCCCTGGCCCAACCCGTCATCTACTCTACCATCTTTGCAGGCACACTCATCACAGCGCTAAGCTCGCACTGATTTTTTA\n",
       "4005 ACCCTTCCCGTACTAATTAATCCCCTGGCCCAACCCGTCATCTACTCTACCATCTTTGCAGGCACACTCATCACAGCGCTAAGCTCGCACTGATTTTTTAC\n",
       "     insertions positions obs_bias  BACInd\n",
       "4000 48         4500      6.2635659 4     \n",
       "4001  0         4501      0.0000000 5     \n",
       "4002  3         4502      0.3929961 5     \n",
       "4003  2         4503      0.2650919 5     \n",
       "4004  3         4504      0.4303977 5     \n",
       "4005  3         4505      0.4749216 5     "
      ]
     },
     "metadata": {},
     "output_type": "display_data"
    }
   ],
   "source": [
    "head(pbmc_scatac)"
   ]
  },
  {
   "cell_type": "code",
   "execution_count": 4,
   "id": "1778190a-7e92-422f-b2a7-9ef61a392ea8",
   "metadata": {},
   "outputs": [],
   "source": [
    "### heatmap ----\n",
    "setwd(\"/home/mnt/weka/nzh/team/woodsqu2/nzhanglab/project/linyx/footprints/PRINT/data/batch_effects/multiome_kidney_mtDNA\")\n",
    "obsbias = data.frame('polr2a_control' = degron_polr2a_control$obs_bias, \n",
    "                     # 'polr2a_treatment' = degron_polr2a_treatment$obs_bias, \n",
    "                     'ctcf_control' = degron_ctcf_control$obs_bias, \n",
    "                     # 'ctcf_treatment' = degron_ctcf_treatment$obs_bias, \n",
    "                     # \"SAMN27505544\" = obsbias_SAMN27505544$obs_bias, \n",
    "                     # \"SAMN18736215\" = obsbias_SAMN18736215$obs_bias, \n",
    "                     \"SAMN18736216\" = obsbias_SAMN18736216$obs_bias, \n",
    "                     # \"SAMN27505541\" = obsbias_SAMN27505541$obs_bias, \n",
    "                     # \"SAMN27505543\" = obsbias_SAMN27505543$obs_bias, \n",
    "                     # '1_27Nx' = obsbias_1_27Nx$obs_bias, \n",
    "                     # '2_15Nx' = obsbias_2_15Nx$obs_bias, \n",
    "                     # '091422Nx' = obsbias_091422Nx$obs_bias, \n",
    "                     # '090922Nx' = obsbias_090922Nx$obs_bias,\n",
    "                     'AIL5160' = obsbias_AIL5160$obs_bias, \n",
    "                     'AJDV174' = obsbias_AJDV174$obs_bias, \n",
    "                     'AIIM164' = obsbias_AIIM164$obs_bias, \n",
    "                     # 'brain_multi' = brain_multi$obs_bias, \n",
    "                     # \"Control_1\" = obsbias_Control_1$obs_bias, \n",
    "                     # \"Control_2\" = obsbias_Control_2$obs_bias, \n",
    "                     # \"Control_3\" = obsbias_Control_3$obs_bias, \n",
    "                     \"DN_1\" = obsbias_DN_1$obs_bias, \n",
    "                     \"CKD_3\" = obsbias_CKD_3$obs_bias, \n",
    "                     'AJDL105' = obsbias_AJDL105$obs_bias, \n",
    "                     'pbmc_multiome' = pbmc_multiome$obs_bias, \n",
    "                     # \"CKD_4\" = obsbias_CKD_4$obs_bias, \n",
    "                     # \"CKD_5\" = obsbias_CKD_5$obs_bias, \n",
    "                     # \"Control_4\" = obsbias_Control_4$obs_bias, \n",
    "                     \"Control_5\" = obsbias_Control_5$obs_bias, \n",
    "                     \"Control_6\" = obsbias_Control_6$obs_bias, \n",
    "                     \"DN_5\" = obsbias_DN_5$obs_bias, \n",
    "                     \"CKD_2\" = obsbias_CKD_2$obs_bias, \n",
    "                     # \"DN_6\" = obsbias_DN_6$obs_bias, \n",
    "                     # \"DN_2\" = obsbias_DN_2$obs_bias, \n",
    "                     # \"DN_3\" = obsbias_DN_3$obs_bias, \n",
    "                     # \"CKD_1\" = obsbias_CKD_1$obs_bias, \n",
    "                     # 'dabtram_day10' = obsbias_dabtram_day10$obs_bias, \n",
    "                     # 'cis_day10' = obsbias_cis_day10$obs_bias, \n",
    "                     # 'A2' = obsbias_A2$obs_bias,\n",
    "                     # 'dabtram_week5' = obsbias_dabtram_week5$obs_bias,\n",
    "                     # 'cis_week5' = obsbias_cis_week5$obs_bias, \n",
    "                     # 'day0' = obsbias_day0$obs_bias, \n",
    "                     \"SAMN27505541\" = obsbias_SAMN27505541$obs_bias, \n",
    "                     'pbmc_scatac' = pbmc_scatac$obs_bias, \n",
    "                     'lymph_node' = lymph_node$obs_bias\n",
    "                    )\n"
   ]
  },
  {
   "cell_type": "code",
   "execution_count": 5,
   "id": "6c518ed3-06db-439e-a4a7-22a9a0612acc",
   "metadata": {},
   "outputs": [],
   "source": [
    "cor_plot = cor\n",
    "cor_data = cor(obsbias) %>%\n",
    "  as.data.frame() %>%\n",
    "  rownames_to_column(var = 'sample1') %>%\n",
    "  pivot_longer(cols = -sample1, \n",
    "               names_to = 'sample2', \n",
    "               values_to = 'correlation') %>%\n",
    "  arrange(sample1) %>%\n",
    "  group_by(sample1) %>%\n",
    "  filter(row_number() >= which(sample1 == sample2))\n",
    "\n",
    "cor_data$sample1 = factor(cor_data$sample1, \n",
    "                          levels = colnames(obsbias), \n",
    "                          labels = gsub(\"X\", \"\", colnames(obsbias)))\n",
    "cor_data$sample2 = factor(cor_data$sample2, \n",
    "                          levels = rev(colnames(obsbias)), \n",
    "                          labels = gsub(\"X\", \"\", rev(colnames(obsbias))))\n",
    "\n"
   ]
  },
  {
   "cell_type": "code",
   "execution_count": 6,
   "id": "347efb3d-4d50-477b-8aab-b0fc47fe26a5",
   "metadata": {},
   "outputs": [
    {
     "data": {
      "text/html": [
       "<table class=\"dataframe\">\n",
       "<caption>A grouped_df: 6 × 3</caption>\n",
       "<thead>\n",
       "\t<tr><th scope=col>sample1</th><th scope=col>sample2</th><th scope=col>correlation</th></tr>\n",
       "\t<tr><th scope=col>&lt;fct&gt;</th><th scope=col>&lt;fct&gt;</th><th scope=col>&lt;dbl&gt;</th></tr>\n",
       "</thead>\n",
       "<tbody>\n",
       "\t<tr><td>AIIM164</td><td>AIIM164      </td><td>1.0000000</td></tr>\n",
       "\t<tr><td>AIIM164</td><td>DN_1         </td><td>0.9169261</td></tr>\n",
       "\t<tr><td>AIIM164</td><td>CKD_3        </td><td>0.9275263</td></tr>\n",
       "\t<tr><td>AIIM164</td><td>AJDL105      </td><td>0.9439546</td></tr>\n",
       "\t<tr><td>AIIM164</td><td>pbmc_multiome</td><td>0.9480774</td></tr>\n",
       "\t<tr><td>AIIM164</td><td>Control_5    </td><td>0.9608512</td></tr>\n",
       "</tbody>\n",
       "</table>\n"
      ],
      "text/latex": [
       "A grouped\\_df: 6 × 3\n",
       "\\begin{tabular}{lll}\n",
       " sample1 & sample2 & correlation\\\\\n",
       " <fct> & <fct> & <dbl>\\\\\n",
       "\\hline\n",
       "\t AIIM164 & AIIM164       & 1.0000000\\\\\n",
       "\t AIIM164 & DN\\_1          & 0.9169261\\\\\n",
       "\t AIIM164 & CKD\\_3         & 0.9275263\\\\\n",
       "\t AIIM164 & AJDL105       & 0.9439546\\\\\n",
       "\t AIIM164 & pbmc\\_multiome & 0.9480774\\\\\n",
       "\t AIIM164 & Control\\_5     & 0.9608512\\\\\n",
       "\\end{tabular}\n"
      ],
      "text/markdown": [
       "\n",
       "A grouped_df: 6 × 3\n",
       "\n",
       "| sample1 &lt;fct&gt; | sample2 &lt;fct&gt; | correlation &lt;dbl&gt; |\n",
       "|---|---|---|\n",
       "| AIIM164 | AIIM164       | 1.0000000 |\n",
       "| AIIM164 | DN_1          | 0.9169261 |\n",
       "| AIIM164 | CKD_3         | 0.9275263 |\n",
       "| AIIM164 | AJDL105       | 0.9439546 |\n",
       "| AIIM164 | pbmc_multiome | 0.9480774 |\n",
       "| AIIM164 | Control_5     | 0.9608512 |\n",
       "\n"
      ],
      "text/plain": [
       "  sample1 sample2       correlation\n",
       "1 AIIM164 AIIM164       1.0000000  \n",
       "2 AIIM164 DN_1          0.9169261  \n",
       "3 AIIM164 CKD_3         0.9275263  \n",
       "4 AIIM164 AJDL105       0.9439546  \n",
       "5 AIIM164 pbmc_multiome 0.9480774  \n",
       "6 AIIM164 Control_5     0.9608512  "
      ]
     },
     "metadata": {},
     "output_type": "display_data"
    }
   ],
   "source": [
    "head(cor_data)"
   ]
  },
  {
   "cell_type": "code",
   "execution_count": 7,
   "id": "6d8c42ae-41f5-402f-98a4-6ce4af7db482",
   "metadata": {},
   "outputs": [
    {
     "data": {
      "image/png": "[encoded data removed]",
      "text/plain": [
       "plot without title"
      ]
     },
     "metadata": {
      "image/png": {
       "height": 480,
       "width": 600
      }
     },
     "output_type": "display_data"
    }
   ],
   "source": [
    "# cor_data$correlation[cor_data$correlation <= 0.8] = 0.81\n",
    "cor_heatmap = ggplot(cor_data, aes(sample1, sample2)) +\n",
    "  theme_bw() +\n",
    "  xlab('sample') +\n",
    "  ylab('sample') +\n",
    "  geom_tile(aes(fill = correlation), color='white') +\n",
    "  scale_fill_gradient(low = 'white', \n",
    "                       # mid = '#fff7f3', \n",
    "                       # midpoint = 0.92, \n",
    "                       high = 'darkblue', \n",
    "                       space = 'Lab', \n",
    "                       limits = c(0.85, 1)\n",
    "  ) +\n",
    "  theme(\n",
    "    axis.text.x=element_blank(),\n",
    "    axis.text.y=element_blank(),\n",
    "    axis.ticks=element_blank(),\n",
    "    axis.line=element_blank(),\n",
    "    panel.border=element_blank(),\n",
    "    panel.grid.major=element_blank(), \n",
    "    text = element_text(size = 14)\n",
    "  )\n",
    "\n",
    "options(repr.plot.width=10, repr.plot.height=8)\n",
    "cor_heatmap\n"
   ]
  },
  {
   "cell_type": "code",
   "execution_count": null,
   "id": "44b35af2-d233-43f7-adae-021347e8eb76",
   "metadata": {},
   "outputs": [],
   "source": []
  },
  {
   "cell_type": "code",
   "execution_count": null,
   "id": "b3361324-8415-49d4-aea4-fc5d64352200",
   "metadata": {},
   "outputs": [],
   "source": []
  }
 ],
 "metadata": {
  "kernelspec": {
   "display_name": "R",
   "language": "R",
   "name": "ir"
  },
  "language_info": {
   "codemirror_mode": "r",
   "file_extension": ".r",
   "mimetype": "text/x-r-source",
   "name": "R",
   "pygments_lexer": "r",
   "version": "4.4.0"
  }
 },
 "nbformat": 4,
 "nbformat_minor": 5
}
